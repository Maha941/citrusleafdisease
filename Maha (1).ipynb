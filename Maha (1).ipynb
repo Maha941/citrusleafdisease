{
  "cells": [
    {
      "cell_type": "markdown",
      "source": [
        "# Mount Google Drive"
      ],
      "metadata": {
        "id": "OjQJ71ePIx-Y"
      }
    },
    {
      "cell_type": "code",
      "source": [
        "from google.colab import drive\n",
        "drive.mount('/content/drive')"
      ],
      "metadata": {
        "id": "gOyiI0ulO612",
        "colab": {
          "base_uri": "https://localhost:8080/"
        },
        "outputId": "f69619ae-113f-4f07-8746-a60ff06c93ea"
      },
      "execution_count": null,
      "outputs": [
        {
          "output_type": "stream",
          "name": "stdout",
          "text": [
            "Drive already mounted at /content/drive; to attempt to forcibly remount, call drive.mount(\"/content/drive\", force_remount=True).\n"
          ]
        }
      ]
    },
    {
      "cell_type": "markdown",
      "source": [
        "# Import Libraries"
      ],
      "metadata": {
        "id": "pXl12wJEI3cF"
      }
    },
    {
      "cell_type": "code",
      "source": [
        "pip install keras==3.2.0"
      ],
      "metadata": {
        "id": "-q9H1uXynAlK",
        "outputId": "41d0bd86-0d35-4dbc-ef0e-305b08be9377",
        "colab": {
          "base_uri": "https://localhost:8080/"
        }
      },
      "execution_count": null,
      "outputs": [
        {
          "output_type": "stream",
          "name": "stdout",
          "text": [
            "Collecting keras==3.2.0\n",
            "  Downloading keras-3.2.0-py3-none-any.whl.metadata (5.6 kB)\n",
            "Requirement already satisfied: absl-py in /usr/local/lib/python3.10/dist-packages (from keras==3.2.0) (1.4.0)\n",
            "Requirement already satisfied: numpy in /usr/local/lib/python3.10/dist-packages (from keras==3.2.0) (1.26.4)\n",
            "Requirement already satisfied: rich in /usr/local/lib/python3.10/dist-packages (from keras==3.2.0) (13.9.2)\n",
            "Requirement already satisfied: namex in /usr/local/lib/python3.10/dist-packages (from keras==3.2.0) (0.0.8)\n",
            "Requirement already satisfied: h5py in /usr/local/lib/python3.10/dist-packages (from keras==3.2.0) (3.11.0)\n",
            "Requirement already satisfied: optree in /usr/local/lib/python3.10/dist-packages (from keras==3.2.0) (0.13.0)\n",
            "Requirement already satisfied: ml-dtypes in /usr/local/lib/python3.10/dist-packages (from keras==3.2.0) (0.4.1)\n",
            "Requirement already satisfied: typing-extensions>=4.5.0 in /usr/local/lib/python3.10/dist-packages (from optree->keras==3.2.0) (4.12.2)\n",
            "Requirement already satisfied: markdown-it-py>=2.2.0 in /usr/local/lib/python3.10/dist-packages (from rich->keras==3.2.0) (3.0.0)\n",
            "Requirement already satisfied: pygments<3.0.0,>=2.13.0 in /usr/local/lib/python3.10/dist-packages (from rich->keras==3.2.0) (2.18.0)\n",
            "Requirement already satisfied: mdurl~=0.1 in /usr/local/lib/python3.10/dist-packages (from markdown-it-py>=2.2.0->rich->keras==3.2.0) (0.1.2)\n",
            "Downloading keras-3.2.0-py3-none-any.whl (1.1 MB)\n",
            "\u001b[?25l   \u001b[90m━━━━━━━━━━━━━━━━━━━━━━━━━━━━━━━━━━━━━━━━\u001b[0m \u001b[32m0.0/1.1 MB\u001b[0m \u001b[31m?\u001b[0m eta \u001b[36m-:--:--\u001b[0m\r\u001b[2K   \u001b[90m━━━━━━━━━━━━━━━━━━━━━━━━━━━━━━━━━━━━━━━━\u001b[0m \u001b[32m1.1/1.1 MB\u001b[0m \u001b[31m49.3 MB/s\u001b[0m eta \u001b[36m0:00:00\u001b[0m\n",
            "\u001b[?25hInstalling collected packages: keras\n",
            "  Attempting uninstall: keras\n",
            "    Found existing installation: keras 3.4.1\n",
            "    Uninstalling keras-3.4.1:\n",
            "      Successfully uninstalled keras-3.4.1\n",
            "Successfully installed keras-3.2.0\n"
          ]
        }
      ]
    },
    {
      "cell_type": "code",
      "source": [
        "pip install keras-layer-normalization"
      ],
      "metadata": {
        "id": "HQBcl-0roBqo",
        "outputId": "bffb6760-227e-4ba5-dc70-d26998cbd66c",
        "colab": {
          "base_uri": "https://localhost:8080/"
        }
      },
      "execution_count": null,
      "outputs": [
        {
          "output_type": "stream",
          "name": "stdout",
          "text": [
            "Collecting keras-layer-normalization\n",
            "  Downloading keras-layer-normalization-0.16.0.tar.gz (3.9 kB)\n",
            "  Preparing metadata (setup.py) ... \u001b[?25l\u001b[?25hdone\n",
            "Requirement already satisfied: numpy in /usr/local/lib/python3.10/dist-packages (from keras-layer-normalization) (1.26.4)\n",
            "Building wheels for collected packages: keras-layer-normalization\n",
            "  Building wheel for keras-layer-normalization (setup.py) ... \u001b[?25l\u001b[?25hdone\n",
            "  Created wheel for keras-layer-normalization: filename=keras_layer_normalization-0.16.0-py3-none-any.whl size=4654 sha256=6532ce22fca18fb59007780539116bb6011f61d3f3405eac36d60e8b70cf403d\n",
            "  Stored in directory: /root/.cache/pip/wheels/ed/3a/4b/21db23c0cc56c4b219616e181f258eb7c57d36cc5d056fae9a\n",
            "Successfully built keras-layer-normalization\n",
            "Installing collected packages: keras-layer-normalization\n",
            "Successfully installed keras-layer-normalization-0.16.0\n"
          ]
        }
      ]
    },
    {
      "cell_type": "code",
      "source": [
        "pip install tensorflow==2.9"
      ],
      "metadata": {
        "id": "ezZA-7JyoG-9",
        "outputId": "e08c1c7c-445c-455b-eb84-6a822c5745d7",
        "colab": {
          "base_uri": "https://localhost:8080/",
          "height": 1000
        }
      },
      "execution_count": null,
      "outputs": [
        {
          "output_type": "stream",
          "name": "stdout",
          "text": [
            "Collecting tensorflow==2.9\n",
            "  Downloading tensorflow-2.9.0-cp310-cp310-manylinux_2_17_x86_64.manylinux2014_x86_64.whl.metadata (3.0 kB)\n",
            "Requirement already satisfied: absl-py>=1.0.0 in /usr/local/lib/python3.10/dist-packages (from tensorflow==2.9) (1.4.0)\n",
            "Requirement already satisfied: astunparse>=1.6.0 in /usr/local/lib/python3.10/dist-packages (from tensorflow==2.9) (1.6.3)\n",
            "Collecting flatbuffers<2,>=1.12 (from tensorflow==2.9)\n",
            "  Downloading flatbuffers-1.12-py2.py3-none-any.whl.metadata (872 bytes)\n",
            "Collecting gast<=0.4.0,>=0.2.1 (from tensorflow==2.9)\n",
            "  Downloading gast-0.4.0-py3-none-any.whl.metadata (1.1 kB)\n",
            "Requirement already satisfied: google-pasta>=0.1.1 in /usr/local/lib/python3.10/dist-packages (from tensorflow==2.9) (0.2.0)\n",
            "Requirement already satisfied: grpcio<2.0,>=1.24.3 in /usr/local/lib/python3.10/dist-packages (from tensorflow==2.9) (1.64.1)\n",
            "Requirement already satisfied: h5py>=2.9.0 in /usr/local/lib/python3.10/dist-packages (from tensorflow==2.9) (3.11.0)\n",
            "Collecting keras<2.10.0,>=2.9.0rc0 (from tensorflow==2.9)\n",
            "  Downloading keras-2.9.0-py2.py3-none-any.whl.metadata (1.3 kB)\n",
            "Collecting keras-preprocessing>=1.1.1 (from tensorflow==2.9)\n",
            "  Downloading Keras_Preprocessing-1.1.2-py2.py3-none-any.whl.metadata (1.9 kB)\n",
            "Requirement already satisfied: libclang>=13.0.0 in /usr/local/lib/python3.10/dist-packages (from tensorflow==2.9) (18.1.1)\n",
            "Requirement already satisfied: numpy>=1.20 in /usr/local/lib/python3.10/dist-packages (from tensorflow==2.9) (1.26.4)\n",
            "Requirement already satisfied: opt-einsum>=2.3.2 in /usr/local/lib/python3.10/dist-packages (from tensorflow==2.9) (3.4.0)\n",
            "Requirement already satisfied: packaging in /usr/local/lib/python3.10/dist-packages (from tensorflow==2.9) (24.1)\n",
            "Requirement already satisfied: protobuf>=3.9.2 in /usr/local/lib/python3.10/dist-packages (from tensorflow==2.9) (3.20.3)\n",
            "Requirement already satisfied: setuptools in /usr/local/lib/python3.10/dist-packages (from tensorflow==2.9) (71.0.4)\n",
            "Requirement already satisfied: six>=1.12.0 in /usr/local/lib/python3.10/dist-packages (from tensorflow==2.9) (1.16.0)\n",
            "Collecting tensorboard<2.10,>=2.9 (from tensorflow==2.9)\n",
            "  Downloading tensorboard-2.9.1-py3-none-any.whl.metadata (1.9 kB)\n",
            "Requirement already satisfied: tensorflow-io-gcs-filesystem>=0.23.1 in /usr/local/lib/python3.10/dist-packages (from tensorflow==2.9) (0.37.1)\n",
            "Collecting tensorflow-estimator<2.10.0,>=2.9.0rc0 (from tensorflow==2.9)\n",
            "  Downloading tensorflow_estimator-2.9.0-py2.py3-none-any.whl.metadata (1.3 kB)\n",
            "Requirement already satisfied: termcolor>=1.1.0 in /usr/local/lib/python3.10/dist-packages (from tensorflow==2.9) (2.5.0)\n",
            "Requirement already satisfied: typing-extensions>=3.6.6 in /usr/local/lib/python3.10/dist-packages (from tensorflow==2.9) (4.12.2)\n",
            "Requirement already satisfied: wrapt>=1.11.0 in /usr/local/lib/python3.10/dist-packages (from tensorflow==2.9) (1.16.0)\n",
            "Requirement already satisfied: wheel<1.0,>=0.23.0 in /usr/local/lib/python3.10/dist-packages (from astunparse>=1.6.0->tensorflow==2.9) (0.44.0)\n",
            "Requirement already satisfied: google-auth<3,>=1.6.3 in /usr/local/lib/python3.10/dist-packages (from tensorboard<2.10,>=2.9->tensorflow==2.9) (2.27.0)\n",
            "Collecting google-auth-oauthlib<0.5,>=0.4.1 (from tensorboard<2.10,>=2.9->tensorflow==2.9)\n",
            "  Downloading google_auth_oauthlib-0.4.6-py2.py3-none-any.whl.metadata (2.7 kB)\n",
            "Requirement already satisfied: markdown>=2.6.8 in /usr/local/lib/python3.10/dist-packages (from tensorboard<2.10,>=2.9->tensorflow==2.9) (3.7)\n",
            "Collecting protobuf>=3.9.2 (from tensorflow==2.9)\n",
            "  Downloading protobuf-3.19.6-cp310-cp310-manylinux_2_17_x86_64.manylinux2014_x86_64.whl.metadata (787 bytes)\n",
            "Requirement already satisfied: requests<3,>=2.21.0 in /usr/local/lib/python3.10/dist-packages (from tensorboard<2.10,>=2.9->tensorflow==2.9) (2.32.3)\n",
            "Collecting tensorboard-data-server<0.7.0,>=0.6.0 (from tensorboard<2.10,>=2.9->tensorflow==2.9)\n",
            "  Downloading tensorboard_data_server-0.6.1-py3-none-manylinux2010_x86_64.whl.metadata (1.1 kB)\n",
            "Collecting tensorboard-plugin-wit>=1.6.0 (from tensorboard<2.10,>=2.9->tensorflow==2.9)\n",
            "  Downloading tensorboard_plugin_wit-1.8.1-py3-none-any.whl.metadata (873 bytes)\n",
            "Requirement already satisfied: werkzeug>=1.0.1 in /usr/local/lib/python3.10/dist-packages (from tensorboard<2.10,>=2.9->tensorflow==2.9) (3.0.4)\n",
            "Requirement already satisfied: cachetools<6.0,>=2.0.0 in /usr/local/lib/python3.10/dist-packages (from google-auth<3,>=1.6.3->tensorboard<2.10,>=2.9->tensorflow==2.9) (5.5.0)\n",
            "Requirement already satisfied: pyasn1-modules>=0.2.1 in /usr/local/lib/python3.10/dist-packages (from google-auth<3,>=1.6.3->tensorboard<2.10,>=2.9->tensorflow==2.9) (0.4.1)\n",
            "Requirement already satisfied: rsa<5,>=3.1.4 in /usr/local/lib/python3.10/dist-packages (from google-auth<3,>=1.6.3->tensorboard<2.10,>=2.9->tensorflow==2.9) (4.9)\n",
            "Requirement already satisfied: requests-oauthlib>=0.7.0 in /usr/local/lib/python3.10/dist-packages (from google-auth-oauthlib<0.5,>=0.4.1->tensorboard<2.10,>=2.9->tensorflow==2.9) (1.3.1)\n",
            "Requirement already satisfied: charset-normalizer<4,>=2 in /usr/local/lib/python3.10/dist-packages (from requests<3,>=2.21.0->tensorboard<2.10,>=2.9->tensorflow==2.9) (3.4.0)\n",
            "Requirement already satisfied: idna<4,>=2.5 in /usr/local/lib/python3.10/dist-packages (from requests<3,>=2.21.0->tensorboard<2.10,>=2.9->tensorflow==2.9) (3.10)\n",
            "Requirement already satisfied: urllib3<3,>=1.21.1 in /usr/local/lib/python3.10/dist-packages (from requests<3,>=2.21.0->tensorboard<2.10,>=2.9->tensorflow==2.9) (2.2.3)\n",
            "Requirement already satisfied: certifi>=2017.4.17 in /usr/local/lib/python3.10/dist-packages (from requests<3,>=2.21.0->tensorboard<2.10,>=2.9->tensorflow==2.9) (2024.8.30)\n",
            "Requirement already satisfied: MarkupSafe>=2.1.1 in /usr/local/lib/python3.10/dist-packages (from werkzeug>=1.0.1->tensorboard<2.10,>=2.9->tensorflow==2.9) (3.0.1)\n",
            "Requirement already satisfied: pyasn1<0.7.0,>=0.4.6 in /usr/local/lib/python3.10/dist-packages (from pyasn1-modules>=0.2.1->google-auth<3,>=1.6.3->tensorboard<2.10,>=2.9->tensorflow==2.9) (0.6.1)\n",
            "Requirement already satisfied: oauthlib>=3.0.0 in /usr/local/lib/python3.10/dist-packages (from requests-oauthlib>=0.7.0->google-auth-oauthlib<0.5,>=0.4.1->tensorboard<2.10,>=2.9->tensorflow==2.9) (3.2.2)\n",
            "Downloading tensorflow-2.9.0-cp310-cp310-manylinux_2_17_x86_64.manylinux2014_x86_64.whl (511.7 MB)\n",
            "\u001b[2K   \u001b[90m━━━━━━━━━━━━━━━━━━━━━━━━━━━━━━━━━━━━━━━━\u001b[0m \u001b[32m511.7/511.7 MB\u001b[0m \u001b[31m2.0 MB/s\u001b[0m eta \u001b[36m0:00:00\u001b[0m\n",
            "\u001b[?25hDownloading flatbuffers-1.12-py2.py3-none-any.whl (15 kB)\n",
            "Downloading gast-0.4.0-py3-none-any.whl (9.8 kB)\n",
            "Downloading keras-2.9.0-py2.py3-none-any.whl (1.6 MB)\n",
            "\u001b[2K   \u001b[90m━━━━━━━━━━━━━━━━━━━━━━━━━━━━━━━━━━━━━━━━\u001b[0m \u001b[32m1.6/1.6 MB\u001b[0m \u001b[31m49.3 MB/s\u001b[0m eta \u001b[36m0:00:00\u001b[0m\n",
            "\u001b[?25hDownloading Keras_Preprocessing-1.1.2-py2.py3-none-any.whl (42 kB)\n",
            "\u001b[2K   \u001b[90m━━━━━━━━━━━━━━━━━━━━━━━━━━━━━━━━━━━━━━━━\u001b[0m \u001b[32m42.6/42.6 kB\u001b[0m \u001b[31m3.6 MB/s\u001b[0m eta \u001b[36m0:00:00\u001b[0m\n",
            "\u001b[?25hDownloading tensorboard-2.9.1-py3-none-any.whl (5.8 MB)\n",
            "\u001b[2K   \u001b[90m━━━━━━━━━━━━━━━━━━━━━━━━━━━━━━━━━━━━━━━━\u001b[0m \u001b[32m5.8/5.8 MB\u001b[0m \u001b[31m43.0 MB/s\u001b[0m eta \u001b[36m0:00:00\u001b[0m\n",
            "\u001b[?25hDownloading protobuf-3.19.6-cp310-cp310-manylinux_2_17_x86_64.manylinux2014_x86_64.whl (1.1 MB)\n",
            "\u001b[2K   \u001b[90m━━━━━━━━━━━━━━━━━━━━━━━━━━━━━━━━━━━━━━━━\u001b[0m \u001b[32m1.1/1.1 MB\u001b[0m \u001b[31m32.4 MB/s\u001b[0m eta \u001b[36m0:00:00\u001b[0m\n",
            "\u001b[?25hDownloading tensorflow_estimator-2.9.0-py2.py3-none-any.whl (438 kB)\n",
            "\u001b[2K   \u001b[90m━━━━━━━━━━━━━━━━━━━━━━━━━━━━━━━━━━━━━━━━\u001b[0m \u001b[32m438.7/438.7 kB\u001b[0m \u001b[31m18.8 MB/s\u001b[0m eta \u001b[36m0:00:00\u001b[0m\n",
            "\u001b[?25hDownloading google_auth_oauthlib-0.4.6-py2.py3-none-any.whl (18 kB)\n",
            "Downloading tensorboard_data_server-0.6.1-py3-none-manylinux2010_x86_64.whl (4.9 MB)\n",
            "\u001b[2K   \u001b[90m━━━━━━━━━━━━━━━━━━━━━━━━━━━━━━━━━━━━━━━━\u001b[0m \u001b[32m4.9/4.9 MB\u001b[0m \u001b[31m66.2 MB/s\u001b[0m eta \u001b[36m0:00:00\u001b[0m\n",
            "\u001b[?25hDownloading tensorboard_plugin_wit-1.8.1-py3-none-any.whl (781 kB)\n",
            "\u001b[2K   \u001b[90m━━━━━━━━━━━━━━━━━━━━━━━━━━━━━━━━━━━━━━━━\u001b[0m \u001b[32m781.3/781.3 kB\u001b[0m \u001b[31m37.8 MB/s\u001b[0m eta \u001b[36m0:00:00\u001b[0m\n",
            "\u001b[?25hInstalling collected packages: tensorboard-plugin-wit, keras, flatbuffers, tensorflow-estimator, tensorboard-data-server, protobuf, keras-preprocessing, gast, google-auth-oauthlib, tensorboard, tensorflow\n",
            "  Attempting uninstall: keras\n",
            "    Found existing installation: keras 3.2.0\n",
            "    Uninstalling keras-3.2.0:\n",
            "      Successfully uninstalled keras-3.2.0\n",
            "  Attempting uninstall: flatbuffers\n",
            "    Found existing installation: flatbuffers 24.3.25\n",
            "    Uninstalling flatbuffers-24.3.25:\n",
            "      Successfully uninstalled flatbuffers-24.3.25\n",
            "  Attempting uninstall: tensorboard-data-server\n",
            "    Found existing installation: tensorboard-data-server 0.7.2\n",
            "    Uninstalling tensorboard-data-server-0.7.2:\n",
            "      Successfully uninstalled tensorboard-data-server-0.7.2\n",
            "  Attempting uninstall: protobuf\n",
            "    Found existing installation: protobuf 3.20.3\n",
            "    Uninstalling protobuf-3.20.3:\n",
            "      Successfully uninstalled protobuf-3.20.3\n",
            "  Attempting uninstall: gast\n",
            "    Found existing installation: gast 0.6.0\n",
            "    Uninstalling gast-0.6.0:\n",
            "      Successfully uninstalled gast-0.6.0\n",
            "  Attempting uninstall: google-auth-oauthlib\n",
            "    Found existing installation: google-auth-oauthlib 1.2.1\n",
            "    Uninstalling google-auth-oauthlib-1.2.1:\n",
            "      Successfully uninstalled google-auth-oauthlib-1.2.1\n",
            "  Attempting uninstall: tensorboard\n",
            "    Found existing installation: tensorboard 2.17.0\n",
            "    Uninstalling tensorboard-2.17.0:\n",
            "      Successfully uninstalled tensorboard-2.17.0\n",
            "  Attempting uninstall: tensorflow\n",
            "    Found existing installation: tensorflow 2.17.0\n",
            "    Uninstalling tensorflow-2.17.0:\n",
            "      Successfully uninstalled tensorflow-2.17.0\n",
            "\u001b[31mERROR: pip's dependency resolver does not currently take into account all the packages that are installed. This behaviour is the source of the following dependency conflicts.\n",
            "google-cloud-aiplatform 1.70.0 requires protobuf!=4.21.0,!=4.21.1,!=4.21.2,!=4.21.3,!=4.21.4,!=4.21.5,<6.0.0dev,>=3.20.2, but you have protobuf 3.19.6 which is incompatible.\n",
            "google-cloud-bigquery-connection 1.15.5 requires protobuf!=4.21.0,!=4.21.1,!=4.21.2,!=4.21.3,!=4.21.4,!=4.21.5,<6.0.0dev,>=3.20.2, but you have protobuf 3.19.6 which is incompatible.\n",
            "google-cloud-bigquery-storage 2.26.0 requires protobuf!=3.20.0,!=3.20.1,!=4.21.0,!=4.21.1,!=4.21.2,!=4.21.3,!=4.21.4,!=4.21.5,<6.0.0dev,>=3.20.2, but you have protobuf 3.19.6 which is incompatible.\n",
            "google-cloud-bigtable 2.26.0 requires protobuf!=4.21.0,!=4.21.1,!=4.21.2,!=4.21.3,!=4.21.4,!=4.21.5,<6.0.0dev,>=3.20.2, but you have protobuf 3.19.6 which is incompatible.\n",
            "google-cloud-functions 1.16.5 requires protobuf!=4.21.0,!=4.21.1,!=4.21.2,!=4.21.3,!=4.21.4,!=4.21.5,<6.0.0dev,>=3.20.2, but you have protobuf 3.19.6 which is incompatible.\n",
            "google-cloud-iam 2.15.2 requires protobuf!=4.21.0,!=4.21.1,!=4.21.2,!=4.21.3,!=4.21.4,!=4.21.5,<6.0.0dev,>=3.20.2, but you have protobuf 3.19.6 which is incompatible.\n",
            "google-cloud-language 2.13.4 requires protobuf!=4.21.0,!=4.21.1,!=4.21.2,!=4.21.3,!=4.21.4,!=4.21.5,<6.0.0dev,>=3.20.2, but you have protobuf 3.19.6 which is incompatible.\n",
            "google-cloud-pubsub 2.25.0 requires protobuf!=4.21.0,!=4.21.1,!=4.21.2,!=4.21.3,!=4.21.4,!=4.21.5,<6.0.0dev,>=3.20.2, but you have protobuf 3.19.6 which is incompatible.\n",
            "google-cloud-resource-manager 1.12.5 requires protobuf!=4.21.0,!=4.21.1,!=4.21.2,!=4.21.3,!=4.21.4,!=4.21.5,<6.0.0dev,>=3.20.2, but you have protobuf 3.19.6 which is incompatible.\n",
            "google-cloud-translate 3.15.5 requires protobuf!=4.21.0,!=4.21.1,!=4.21.2,!=4.21.3,!=4.21.4,!=4.21.5,<6.0.0dev,>=3.20.2, but you have protobuf 3.19.6 which is incompatible.\n",
            "googleapis-common-protos 1.65.0 requires protobuf!=3.20.0,!=3.20.1,!=4.21.1,!=4.21.2,!=4.21.3,!=4.21.4,!=4.21.5,<6.0.0.dev0,>=3.20.2, but you have protobuf 3.19.6 which is incompatible.\n",
            "grpc-google-iam-v1 0.13.1 requires protobuf!=4.21.1,!=4.21.2,!=4.21.3,!=4.21.4,!=4.21.5,<6.0.0dev,>=3.20.2, but you have protobuf 3.19.6 which is incompatible.\n",
            "pandas-gbq 0.23.2 requires google-auth-oauthlib>=0.7.0, but you have google-auth-oauthlib 0.4.6 which is incompatible.\n",
            "tensorflow-datasets 4.9.6 requires protobuf>=3.20, but you have protobuf 3.19.6 which is incompatible.\n",
            "tensorflow-metadata 1.16.1 requires protobuf<4.21,>=3.20.3; python_version < \"3.11\", but you have protobuf 3.19.6 which is incompatible.\n",
            "tf-keras 2.17.0 requires tensorflow<2.18,>=2.17, but you have tensorflow 2.9.0 which is incompatible.\u001b[0m\u001b[31m\n",
            "\u001b[0mSuccessfully installed flatbuffers-1.12 gast-0.4.0 google-auth-oauthlib-0.4.6 keras-2.9.0 keras-preprocessing-1.1.2 protobuf-3.19.6 tensorboard-2.9.1 tensorboard-data-server-0.6.1 tensorboard-plugin-wit-1.8.1 tensorflow-2.9.0 tensorflow-estimator-2.9.0\n"
          ]
        },
        {
          "output_type": "display_data",
          "data": {
            "application/vnd.colab-display-data+json": {
              "pip_warning": {
                "packages": [
                  "google"
                ]
              },
              "id": "bffe73fcd1664ba592c9438141618a6b"
            }
          },
          "metadata": {}
        }
      ]
    },
    {
      "cell_type": "code",
      "source": [
        "pip install opencv-python\n"
      ],
      "metadata": {
        "id": "kP2Umrst6rVd",
        "colab": {
          "base_uri": "https://localhost:8080/"
        },
        "outputId": "4c141477-dc7e-421d-8766-1a89b5df14fb"
      },
      "execution_count": null,
      "outputs": [
        {
          "output_type": "stream",
          "name": "stdout",
          "text": [
            "Requirement already satisfied: opencv-python in /usr/local/lib/python3.10/dist-packages (4.10.0.84)\n",
            "Requirement already satisfied: numpy>=1.21.2 in /usr/local/lib/python3.10/dist-packages (from opencv-python) (1.26.4)\n"
          ]
        }
      ]
    },
    {
      "cell_type": "code",
      "source": [
        "!pip install opencv-python\n"
      ],
      "metadata": {
        "id": "rCIe4Shr7JxF",
        "colab": {
          "base_uri": "https://localhost:8080/"
        },
        "outputId": "b9c6e395-d278-4c09-db34-76e1b62d894b"
      },
      "execution_count": null,
      "outputs": [
        {
          "output_type": "stream",
          "name": "stdout",
          "text": [
            "Requirement already satisfied: opencv-python in /usr/local/lib/python3.10/dist-packages (4.10.0.84)\n",
            "Requirement already satisfied: numpy>=1.21.2 in /usr/local/lib/python3.10/dist-packages (from opencv-python) (1.26.4)\n"
          ]
        }
      ]
    },
    {
      "cell_type": "code",
      "source": [
        "!pip install keras"
      ],
      "metadata": {
        "colab": {
          "base_uri": "https://localhost:8080/"
        },
        "id": "nALw3hLs2rXR",
        "outputId": "6503002c-7c18-42ca-ea28-6cae6a5409a0"
      },
      "execution_count": null,
      "outputs": [
        {
          "output_type": "stream",
          "name": "stdout",
          "text": [
            "Requirement already satisfied: keras in /usr/local/lib/python3.10/dist-packages (2.9.0)\n"
          ]
        }
      ]
    },
    {
      "cell_type": "code",
      "source": [
        "import numpy as np\n",
        "import pandas as pd\n",
        "import os, cv2\n",
        "import matplotlib.pyplot as plt\n",
        "import matplotlib.image as mpimg\n",
        "from pylab import rcParams\n",
        "rcParams['figure.figsize'] = 15, 10\n",
        "\n",
        "from sklearn.utils import shuffle\n",
        "from sklearn.model_selection import train_test_split\n",
        "import keras\n",
        "import tensorflow as tf\n",
        "\n",
        "from keras.models import Sequential\n",
        "from keras.layers import Dense, Activation, Dropout, Flatten\n",
        "from keras.layers.convolutional import Conv2D, MaxPooling2D\n",
        "from keras.metrics import categorical_accuracy\n",
        "from keras.callbacks import ModelCheckpoint, EarlyStopping, ReduceLROnPlateau\n",
        "from keras.optimizers import Adam, RMSprop, SGD, Adamax\n",
        "from keras_layer_normalization import LayerNormalization\n",
        "from keras.wrappers.scikit_learn import KerasClassifier\n",
        "from sklearn.model_selection import cross_val_score, cross_val_predict\n",
        "import seaborn as sns\n",
        "import random\n",
        "from tqdm import tqdm\n",
        "from tensorflow.keras.preprocessing.image import ImageDataGenerator\n"
      ],
      "metadata": {
        "id": "xGhh3p_UnL8r"
      },
      "execution_count": null,
      "outputs": []
    },
    {
      "cell_type": "code",
      "source": [
        "os.listdir('/content/drive/MyDrive/dataset/CitrusLeafDiseaseImage')"
      ],
      "metadata": {
        "id": "eojYwlQDoRfV",
        "outputId": "3864d199-ef06-4ee9-b933-fa089755ae7b",
        "colab": {
          "base_uri": "https://localhost:8080/"
        }
      },
      "execution_count": null,
      "outputs": [
        {
          "output_type": "execute_result",
          "data": {
            "text/plain": [
              "['Melanose', 'Black spot', 'Healthy', 'Greening', 'Canker']"
            ]
          },
          "metadata": {},
          "execution_count": 10
        }
      ]
    },
    {
      "cell_type": "code",
      "source": [
        "DATADIR = r'/content/drive/MyDrive/dataset/CitrusLeafDiseaseImage'"
      ],
      "metadata": {
        "id": "4U78n0nipIvI"
      },
      "execution_count": null,
      "outputs": []
    },
    {
      "cell_type": "code",
      "source": [
        "CATEGORIES = ['Black spot', 'Canker', 'Greening', 'Healthy', 'Melanose']\n",
        "DATADIR = r'/content/drive/MyDrive/dataset/CitrusLeafDiseaseImage'\n",
        "IMAGE_SIZE = (128, 128)  # Resize images to 128x128 (adjust as needed)\n",
        "\n",
        "def load_data():\n",
        "    data = []\n",
        "    for category in CATEGORIES:\n",
        "        path = os.path.join(DATADIR, category)\n",
        "        class_num = CATEGORIES.index(category)\n",
        "\n",
        "        for img in tqdm(os.listdir(path)):\n",
        "            img_path = os.path.join(path, img)\n",
        "            img_array = cv2.imread(img_path, 0)  # Load image in grayscale\n",
        "            if img_array is not None:\n",
        "                img_array = cv2.resize(img_array, IMAGE_SIZE)  # Resize image\n",
        "                img_array = img_array / 255.0  # Normalize pixel values\n",
        "                data.append([img_array, class_num])\n",
        "\n",
        "    return data\n",
        "\n",
        "# Load and resize data\n",
        "data = load_data()\n",
        "\n",
        "# Separate images and labels\n",
        "images, labels = zip(*data)\n",
        "images = np.array(images)\n",
        "labels = np.array(labels)\n",
        "\n",
        "# Split the data into training and testing sets\n",
        "X_train, X_test, y_train, y_test = train_test_split(images, labels, test_size=0.2, random_state=42)\n",
        "\n",
        "# Print the shape of the splits\n",
        "print(f\"Training set: {X_train.shape}, Testing set: {X_test.shape}\")\n"
      ],
      "metadata": {
        "id": "1kz2QflK_uZ1",
        "colab": {
          "base_uri": "https://localhost:8080/"
        },
        "outputId": "bd312e64-ce20-4142-d1f2-c20f7c2f5ec9"
      },
      "execution_count": null,
      "outputs": [
        {
          "output_type": "stream",
          "name": "stderr",
          "text": [
            "100%|██████████| 169/169 [00:05<00:00, 28.63it/s]\n",
            "100%|██████████| 163/163 [00:06<00:00, 26.97it/s]\n",
            "100%|██████████| 204/204 [00:07<00:00, 28.38it/s]\n",
            "100%|██████████| 58/58 [00:46<00:00,  1.25it/s]\n",
            "100%|██████████| 13/13 [00:09<00:00,  1.32it/s]"
          ]
        },
        {
          "output_type": "stream",
          "name": "stdout",
          "text": [
            "Training set: (485, 128, 128), Testing set: (122, 128, 128)\n"
          ]
        },
        {
          "output_type": "stream",
          "name": "stderr",
          "text": [
            "\n"
          ]
        }
      ]
    },
    {
      "cell_type": "code",
      "source": [
        "X_train_Gabor  = X_train\n",
        "X_test_Gabor = X_test"
      ],
      "metadata": {
        "id": "PcWj5bq3BQ6v"
      },
      "execution_count": null,
      "outputs": []
    },
    {
      "cell_type": "code",
      "source": [
        "X_train = np.expand_dims(X_train, axis=3)\n",
        "X_test = np.expand_dims(X_test, axis=3)\n",
        "\n",
        "print(\"After adding color channel\")\n",
        "print(\"X_train shape: \", X_train.shape)\n",
        "print(\"X_test shape: \", X_test.shape)"
      ],
      "metadata": {
        "id": "JrYICOIYEuYV",
        "colab": {
          "base_uri": "https://localhost:8080/"
        },
        "outputId": "a26f44a9-a392-4a25-aeb0-5f9e4a5db0f8"
      },
      "execution_count": null,
      "outputs": [
        {
          "output_type": "stream",
          "name": "stdout",
          "text": [
            "After adding color channel\n",
            "X_train shape:  (485, 128, 128, 1)\n",
            "X_test shape:  (122, 128, 128, 1)\n"
          ]
        }
      ]
    },
    {
      "cell_type": "code",
      "source": [
        "import os\n",
        "data_path ='/content/drive/MyDrive/dataset/CitrusLeafDiseaseImage' #Extracting images from directory\n",
        "data_dir_list = os.listdir(data_path)\n",
        "\n",
        "num_epoch=200\n",
        "\n",
        "img_data_list=[]\n",
        "\n",
        "\n",
        "for dataset in data_dir_list:\n",
        "    img_list=os.listdir(data_path+'/'+ dataset)\n",
        "    print ('Loaded the images of dataset-'+'{}\\n'.format(dataset))\n",
        "    for img in img_list:\n",
        "        input_img=cv2.imread(data_path + '/'+ dataset + '/'+ img )\n",
        "        input_img_resize=cv2.resize(input_img,(48,48))\n",
        "        img_data_list.append(input_img_resize)\n",
        "\n",
        "img_data = np.array(img_data_list)\n",
        "img_data = img_data.astype('float32')\n",
        "img_data = img_data/255\n",
        "img_data.shape"
      ],
      "metadata": {
        "id": "tdhlOqqoea_A",
        "colab": {
          "base_uri": "https://localhost:8080/"
        },
        "outputId": "d765c6e7-3a4b-434a-c96b-1c5903f08c7d"
      },
      "execution_count": null,
      "outputs": [
        {
          "output_type": "stream",
          "name": "stdout",
          "text": [
            "Loaded the images of dataset-Melanose\n",
            "\n",
            "Loaded the images of dataset-Black spot\n",
            "\n",
            "Loaded the images of dataset-Healthy\n",
            "\n",
            "Loaded the images of dataset-Greening\n",
            "\n",
            "Loaded the images of dataset-Canker\n",
            "\n"
          ]
        },
        {
          "output_type": "execute_result",
          "data": {
            "text/plain": [
              "(607, 48, 48, 3)"
            ]
          },
          "metadata": {},
          "execution_count": 15
        }
      ]
    },
    {
      "cell_type": "code",
      "source": [
        "num_classes = 5 #label the data\n",
        "\n",
        "num_of_samples = img_data.shape[0]\n",
        "labels = np.ones((num_of_samples,),dtype='int64')\n",
        "\n",
        "labels[0:134]=0 #135\n",
        "labels[135:188]=1 #54\n",
        "labels[189:365]=2 #177\n",
        "labels[366:440]=3 #75\n",
        "labels[441:647]=4 #207\n",
        "names = ['Melanose','Black spot','Healthy','Greening','Canker']\n",
        "\n",
        "def getLabel(id):\n",
        "    return ['Melanose','Black spot','Healthy','Greening','Canker'][id]"
      ],
      "metadata": {
        "id": "1mitPGIQhS9Q"
      },
      "execution_count": null,
      "outputs": []
    },
    {
      "cell_type": "markdown",
      "source": [
        "# Spliting Data"
      ],
      "metadata": {
        "id": "4iCk4NpjEVkk"
      }
    },
    {
      "cell_type": "code",
      "source": [
        "import tensorflow as tf  # Import TensorFlow\n",
        "\n",
        "Y = tf.keras.utils.to_categorical(labels, num_classes)  # Use the correct import\n",
        "#Shuffle the dataset\n",
        "x,y = shuffle(img_data,Y, random_state=2)\n",
        "# Split the dataset\n",
        "X_train, X_test, y_train, y_test = train_test_split(x, y, test_size=0.2, random_state=2)\n",
        "x_test=X_test"
      ],
      "metadata": {
        "id": "t5_HH7zZqsc0"
      },
      "execution_count": null,
      "outputs": []
    },
    {
      "cell_type": "markdown",
      "source": [
        "# HOG Features"
      ],
      "metadata": {
        "id": "13mZF4mkNHXZ"
      }
    },
    {
      "cell_type": "code",
      "source": [
        "from skimage.transform import resize\n",
        "from skimage.feature import hog"
      ],
      "metadata": {
        "id": "0R-Tcj9-PEvm"
      },
      "execution_count": null,
      "outputs": []
    },
    {
      "cell_type": "code",
      "source": [
        "from skimage.color import rgb2gray"
      ],
      "metadata": {
        "id": "rsjxCKMHPKGD"
      },
      "execution_count": null,
      "outputs": []
    },
    {
      "cell_type": "code",
      "source": [
        "\n",
        "plt.figure(figsize=(10, 10))\n",
        "\n",
        "\n",
        "plt.subplot(1,2,1)\n",
        "img = random.choice(X_train)\n",
        "# first image needs to be resized before passing it to HOG descriptor\n",
        "resized_img =  resize(img, (128, 64))\n",
        "plt.title(\"Original image\")\n",
        "plt.imshow(img[:,:,0], cmap='gray')\n",
        "resized_img = rgb2gray(resized_img)\n",
        "fd, hog_image = hog(\n",
        "    resized_img,\n",
        "    orientations=9,\n",
        "    pixels_per_cell=(8, 8),\n",
        "    cells_per_block=(2, 2),\n",
        "    visualize=True\n",
        ")\n",
        "plt.subplot(1,2,2)\n",
        "plt.title(\"HOG\")\n",
        "plt.imshow(resize(hog_image, (48, 48)), cmap='gray')\n",
        "plt.axis('off')"
      ],
      "metadata": {
        "id": "sh_7bSqWNFpH",
        "colab": {
          "base_uri": "https://localhost:8080/",
          "height": 452
        },
        "outputId": "c9305f33-88e3-4369-a4af-4f7aa29f2d24"
      },
      "execution_count": null,
      "outputs": [
        {
          "output_type": "execute_result",
          "data": {
            "text/plain": [
              "(-0.5, 47.5, 47.5, -0.5)"
            ]
          },
          "metadata": {},
          "execution_count": 20
        },
        {
          "output_type": "display_data",
          "data": {
            "text/plain": [
              "<Figure size 1000x1000 with 2 Axes>"
            ],
            "image/png": "[encoded data removed]"
          },
          "metadata": {}
        }
      ]
    },
    {
      "cell_type": "code",
      "source": [
        "def Create_Hog_features(data):\n",
        "    Feature_data = np.zeros((len(data),48,48))\n",
        "\n",
        "    for i in range(len(data)):\n",
        "        img = data[i]\n",
        "        resized_img = resize(img, (128, 64))\n",
        "        fd, hog_image = hog(\n",
        "            resized_img,\n",
        "            orientations=9,\n",
        "            pixels_per_cell=(8, 8),\n",
        "            cells_per_block=(2, 2),\n",
        "            visualize=True,\n",
        "            channel_axis=-1\n",
        "\n",
        "        )\n",
        "        Feature_data[i] = resize(hog_image, (48, 48))\n",
        "    return Feature_data"
      ],
      "metadata": {
        "id": "4lnrt0p5NQ1e"
      },
      "execution_count": null,
      "outputs": []
    },
    {
      "cell_type": "markdown",
      "source": [
        "# #Creating Feature Vectors for Training and Testing"
      ],
      "metadata": {
        "id": "Olu6CLzsN46d"
      }
    },
    {
      "cell_type": "code",
      "source": [
        "!pip install --upgrade scikit-image\n"
      ],
      "metadata": {
        "id": "r5USpClaO5sH",
        "colab": {
          "base_uri": "https://localhost:8080/"
        },
        "outputId": "f4ade12c-b182-451b-b8f1-e912f733a2fd"
      },
      "execution_count": null,
      "outputs": [
        {
          "output_type": "stream",
          "name": "stdout",
          "text": [
            "Requirement already satisfied: scikit-image in /usr/local/lib/python3.10/dist-packages (0.24.0)\n",
            "Requirement already satisfied: numpy>=1.23 in /usr/local/lib/python3.10/dist-packages (from scikit-image) (1.26.4)\n",
            "Requirement already satisfied: scipy>=1.9 in /usr/local/lib/python3.10/dist-packages (from scikit-image) (1.13.1)\n",
            "Requirement already satisfied: networkx>=2.8 in /usr/local/lib/python3.10/dist-packages (from scikit-image) (3.4)\n",
            "Requirement already satisfied: pillow>=9.1 in /usr/local/lib/python3.10/dist-packages (from scikit-image) (10.4.0)\n",
            "Requirement already satisfied: imageio>=2.33 in /usr/local/lib/python3.10/dist-packages (from scikit-image) (2.35.1)\n",
            "Requirement already satisfied: tifffile>=2022.8.12 in /usr/local/lib/python3.10/dist-packages (from scikit-image) (2024.9.20)\n",
            "Requirement already satisfied: packaging>=21 in /usr/local/lib/python3.10/dist-packages (from scikit-image) (24.1)\n",
            "Requirement already satisfied: lazy-loader>=0.4 in /usr/local/lib/python3.10/dist-packages (from scikit-image) (0.4)\n"
          ]
        }
      ]
    },
    {
      "cell_type": "code",
      "source": [
        "import skimage\n",
        "print(skimage.__version__)"
      ],
      "metadata": {
        "id": "vjWHJdosQF7i",
        "colab": {
          "base_uri": "https://localhost:8080/"
        },
        "outputId": "cd052b1c-cf9c-4b3c-9624-729a65be1b41"
      },
      "execution_count": null,
      "outputs": [
        {
          "output_type": "stream",
          "name": "stdout",
          "text": [
            "0.24.0\n"
          ]
        }
      ]
    },
    {
      "cell_type": "code",
      "source": [
        "Feature_X_train = Create_Hog_features(X_train)\n",
        "Feature_X_train.shape"
      ],
      "metadata": {
        "id": "2-deNi2qN4Tu",
        "colab": {
          "base_uri": "https://localhost:8080/"
        },
        "outputId": "74283069-acba-4a61-a7f3-b83680f4c7b5"
      },
      "execution_count": null,
      "outputs": [
        {
          "output_type": "execute_result",
          "data": {
            "text/plain": [
              "(485, 48, 48)"
            ]
          },
          "metadata": {},
          "execution_count": 24
        }
      ]
    },
    {
      "cell_type": "code",
      "source": [
        "plt.imshow(random.choice(Feature_X_train), cmap='gray')\n",
        "plt.axis('off')"
      ],
      "metadata": {
        "id": "hjVYnHclN-US",
        "colab": {
          "base_uri": "https://localhost:8080/",
          "height": 824
        },
        "outputId": "7b526788-7aec-4573-8301-08c41b36046e"
      },
      "execution_count": null,
      "outputs": [
        {
          "output_type": "execute_result",
          "data": {
            "text/plain": [
              "(-0.5, 47.5, 47.5, -0.5)"
            ]
          },
          "metadata": {},
          "execution_count": 25
        },
        {
          "output_type": "display_data",
          "data": {
            "text/plain": [
              "<Figure size 1500x1000 with 1 Axes>"
            ],
            "image/png": "[encoded data removed]"
          },
          "metadata": {}
        }
      ]
    },
    {
      "cell_type": "code",
      "source": [
        "# doing same for test data\n",
        "Feature_X_test = Create_Hog_features(X_test)\n",
        "Feature_X_test.shape"
      ],
      "metadata": {
        "id": "1RaAdMqvOAWu",
        "colab": {
          "base_uri": "https://localhost:8080/"
        },
        "outputId": "bad43c23-6dc2-4c01-8d69-f11ca66f6b44"
      },
      "execution_count": null,
      "outputs": [
        {
          "output_type": "execute_result",
          "data": {
            "text/plain": [
              "(122, 48, 48)"
            ]
          },
          "metadata": {},
          "execution_count": 26
        }
      ]
    },
    {
      "cell_type": "code",
      "source": [
        "plt.imshow(random.choice(Feature_X_test), cmap='gray')\n",
        "plt.axis('off')"
      ],
      "metadata": {
        "id": "Mdxpd8AuOCah",
        "colab": {
          "base_uri": "https://localhost:8080/",
          "height": 824
        },
        "outputId": "84fab54d-7185-4f60-9201-c5e6d7f47caa"
      },
      "execution_count": null,
      "outputs": [
        {
          "output_type": "execute_result",
          "data": {
            "text/plain": [
              "(-0.5, 47.5, 47.5, -0.5)"
            ]
          },
          "metadata": {},
          "execution_count": 27
        },
        {
          "output_type": "display_data",
          "data": {
            "text/plain": [
              "<Figure size 1500x1000 with 1 Axes>"
            ],
            "image/png": "[encoded data removed]"
          },
          "metadata": {}
        }
      ]
    },
    {
      "cell_type": "code",
      "source": [
        "# Again adding color channel as it got removed while converting img to hog img\n",
        "X_train_HOG = np.expand_dims(Feature_X_train, axis=3)\n",
        "X_test_HOG = np.expand_dims(Feature_X_test, axis=3)\n",
        "\n",
        "print(\"After adding color channel\")\n",
        "print(\"X_train_HOG shape: \", X_train_HOG.shape)\n",
        "print(\"X_test_HOG shape: \", X_test_HOG.shape)"
      ],
      "metadata": {
        "id": "ypjo5uh_OGI9",
        "colab": {
          "base_uri": "https://localhost:8080/"
        },
        "outputId": "bc3be773-d7a6-48d5-b10a-75c8955fe1fa"
      },
      "execution_count": null,
      "outputs": [
        {
          "output_type": "stream",
          "name": "stdout",
          "text": [
            "After adding color channel\n",
            "X_train_HOG shape:  (485, 48, 48, 1)\n",
            "X_test_HOG shape:  (122, 48, 48, 1)\n"
          ]
        }
      ]
    },
    {
      "cell_type": "code",
      "source": [
        "print(\"X_train_HOG shape: \", X_train_HOG.shape)\n",
        "print(\"y_train shape: \", y_train.shape)\n",
        "print(\"X_test_HOG shape: \", X_test_HOG.shape)\n",
        "print(\"y_test shape: \", y_test.shape)"
      ],
      "metadata": {
        "id": "iw3lPjPsOIXf",
        "colab": {
          "base_uri": "https://localhost:8080/"
        },
        "outputId": "8369b623-ca6e-498b-cad1-9a6c981cdc28"
      },
      "execution_count": null,
      "outputs": [
        {
          "output_type": "stream",
          "name": "stdout",
          "text": [
            "X_train_HOG shape:  (485, 48, 48, 1)\n",
            "y_train shape:  (485, 5)\n",
            "X_test_HOG shape:  (122, 48, 48, 1)\n",
            "y_test shape:  (122, 5)\n"
          ]
        }
      ]
    },
    {
      "cell_type": "markdown",
      "source": [
        "# LBP"
      ],
      "metadata": {
        "id": "ophbWKQqzx_w"
      }
    },
    {
      "cell_type": "code",
      "source": [
        "def Binarypattern(im):                               # creating function to get local binary pattern\n",
        "    img= np.zeros_like(im)\n",
        "    n=3                                              # taking kernel of size 3*3\n",
        "    for i in range(0,im.shape[0]-n):                 # for image height\n",
        "        for j in range(0,im.shape[1]-n):               # for image width\n",
        "            x  = im[i:i+n,j:j+n]                     # reading the entire image in 3*3 format\n",
        "            center       = x[1,1]                    # taking the center value for 3*3 kernel\n",
        "            img1        = (x >= center)*1.0          # checking if neighbouring values of center value is greater or less than center value\n",
        "            img1_vector = img1.T.flatten()           # getting the image pixel values\n",
        "            img1_vector = np.delete(img1_vector,4)\n",
        "            digit = np.where(img1_vector)[0]\n",
        "            if len(digit) >= 1:                     # converting the neighbouring pixels according to center pixel value\n",
        "                num = np.sum(2**digit)              # if n> center assign 1 and if n<center assign 0\n",
        "            else:                                    # if 1 then multiply by 2^digit and if 0 then making value 0 and aggregating all the values of kernel to get new center value\n",
        "                num = 0\n",
        "            img[i+1,j+1] = num\n",
        "    return(img)"
      ],
      "metadata": {
        "id": "6fhtVwPjtBv3"
      },
      "execution_count": null,
      "outputs": []
    },
    {
      "cell_type": "code",
      "source": [
        "plt.figure(figsize = (5,5))\n",
        "\n",
        "plt.subplot(1,2,1)\n",
        "img = random.choice(X_train)\n",
        "plt.title(\"Original  image\")\n",
        "plt.imshow(img[:,:,0], cmap='gray')\n",
        "\n",
        "plt.subplot(1,2,2)\n",
        "plt.title(\"LB Patterns\")\n",
        "imgLBP=Binarypattern(img[:,:,0])             # calling the LBP function using gray image\n",
        "plt.imshow(imgLBP, cmap='gray')\n",
        "plt.axis('off')"
      ],
      "metadata": {
        "id": "G7CwPAJYtEeB",
        "colab": {
          "base_uri": "https://localhost:8080/",
          "height": 276
        },
        "outputId": "4d4a79ba-85aa-4fc9-d5de-53118fd04d99"
      },
      "execution_count": null,
      "outputs": [
        {
          "output_type": "execute_result",
          "data": {
            "text/plain": [
              "(-0.5, 47.5, 47.5, -0.5)"
            ]
          },
          "metadata": {},
          "execution_count": 31
        },
        {
          "output_type": "display_data",
          "data": {
            "text/plain": [
              "<Figure size 500x500 with 2 Axes>"
            ],
            "image/png": "[encoded data removed]"
          },
          "metadata": {}
        }
      ]
    },
    {
      "cell_type": "markdown",
      "source": [
        "# Creating Feature Vectors for training and testing"
      ],
      "metadata": {
        "id": "OeDXCYpW0Cx1"
      }
    },
    {
      "cell_type": "code",
      "source": [
        "X_train.shape"
      ],
      "metadata": {
        "id": "fsEzsw1DvmU_",
        "colab": {
          "base_uri": "https://localhost:8080/"
        },
        "outputId": "e0d3cb35-c88b-48af-c55a-a0dd7b71ef6d"
      },
      "execution_count": null,
      "outputs": [
        {
          "output_type": "execute_result",
          "data": {
            "text/plain": [
              "(485, 48, 48, 3)"
            ]
          },
          "metadata": {},
          "execution_count": 32
        }
      ]
    },
    {
      "cell_type": "code",
      "source": [
        "def create_LBP_features(data):\n",
        "    Feature_data = np.zeros(data.shape)\n",
        "\n",
        "    for i in range(len(data)):\n",
        "        img = data[i]\n",
        "        imgLBP=Binarypattern(img)\n",
        "        Feature_data[i] = imgLBP\n",
        "\n",
        "    return Feature_data"
      ],
      "metadata": {
        "id": "2h0wHCpMvqlY"
      },
      "execution_count": null,
      "outputs": []
    },
    {
      "cell_type": "code",
      "source": [
        "LBP_X_train = create_LBP_features(X_train)"
      ],
      "metadata": {
        "id": "kz_nKdzUvvJV"
      },
      "execution_count": null,
      "outputs": []
    },
    {
      "cell_type": "code",
      "source": [
        "LBP_X_train.shape"
      ],
      "metadata": {
        "id": "zvOXjS7wvxOY",
        "colab": {
          "base_uri": "https://localhost:8080/"
        },
        "outputId": "4a432db1-afc9-4b2d-baad-d67b5a3c0b4d"
      },
      "execution_count": null,
      "outputs": [
        {
          "output_type": "execute_result",
          "data": {
            "text/plain": [
              "(485, 48, 48, 3)"
            ]
          },
          "metadata": {},
          "execution_count": 35
        }
      ]
    },
    {
      "cell_type": "code",
      "source": [
        "LBP_X_test = create_LBP_features(X_test)\n",
        "LBP_X_test.shape"
      ],
      "metadata": {
        "id": "aK2RxhOmv88c",
        "colab": {
          "base_uri": "https://localhost:8080/"
        },
        "outputId": "0c4f92ed-3f80-453d-952a-063fd4c52b25"
      },
      "execution_count": null,
      "outputs": [
        {
          "output_type": "execute_result",
          "data": {
            "text/plain": [
              "(122, 48, 48, 3)"
            ]
          },
          "metadata": {},
          "execution_count": 36
        }
      ]
    },
    {
      "cell_type": "code",
      "source": [
        "img = random.choice(LBP_X_test)\n",
        "plt.imshow(img[:,:,0], cmap='gray')"
      ],
      "metadata": {
        "id": "HexWSINYv_Hx",
        "colab": {
          "base_uri": "https://localhost:8080/",
          "height": 847
        },
        "outputId": "26baca21-92e7-4621-f850-2734d447fe65"
      },
      "execution_count": null,
      "outputs": [
        {
          "output_type": "execute_result",
          "data": {
            "text/plain": [
              "<matplotlib.image.AxesImage at 0x7f4e7f519870>"
            ]
          },
          "metadata": {},
          "execution_count": 37
        },
        {
          "output_type": "display_data",
          "data": {
            "text/plain": [
              "<Figure size 1500x1000 with 1 Axes>"
            ],
            "image/png": "[encoded data removed]"
          },
          "metadata": {}
        }
      ]
    },
    {
      "cell_type": "code",
      "source": [
        "LBP_X_test = create_LBP_features(X_test)\n",
        "LBP_X_test.shape"
      ],
      "metadata": {
        "id": "G0x9hAO50Il0",
        "colab": {
          "base_uri": "https://localhost:8080/"
        },
        "outputId": "f05dbedb-0f41-47d6-eee4-80c039450cf0"
      },
      "execution_count": null,
      "outputs": [
        {
          "output_type": "execute_result",
          "data": {
            "text/plain": [
              "(122, 48, 48, 3)"
            ]
          },
          "metadata": {},
          "execution_count": 38
        }
      ]
    },
    {
      "cell_type": "markdown",
      "source": [
        "\n",
        "# Gabor Filters"
      ],
      "metadata": {
        "id": "K2WFBkoUORxy"
      }
    },
    {
      "cell_type": "code",
      "execution_count": null,
      "metadata": {
        "id": "satisfied-burden"
      },
      "outputs": [],
      "source": [
        "def Gabor_filter(K_size=111, Sigma=10, Gamma=1.2, Lambda=10, Psi=0, angle=0):\n",
        "    # get half size\n",
        "    d = K_size // 2\n",
        "\n",
        "    # prepare kernel\n",
        "    gabor = np.zeros((K_size, K_size), dtype=np.float32)\n",
        "\n",
        "    # each value\n",
        "    for y in range(K_size):\n",
        "        for x in range(K_size):\n",
        "            # distance from center\n",
        "            px = x - d\n",
        "            py = y - d\n",
        "\n",
        "            # degree -> radian\n",
        "            theta = angle / 180. * np.pi\n",
        "\n",
        "            # get kernel x\n",
        "            _x = np.cos(theta) * px + np.sin(theta) * py\n",
        "\n",
        "            # get kernel y\n",
        "            _y = -np.sin(theta) * px + np.cos(theta) * py\n",
        "\n",
        "            # fill kernel\n",
        "            gabor[y, x] = np.exp(-(_x**2 + Gamma**2 * _y**2) / (2 * Sigma**2)) * np.cos(2*np.pi*_x/Lambda + Psi)\n",
        "\n",
        "    # kernel normalization\n",
        "    gabor /= np.sum(np.abs(gabor))\n",
        "\n",
        "    return gabor\n",
        "\n",
        "\n",
        "# Use Gabor filter to act on the image\n",
        "def Gabor_filtering(gray, K_size=111, Sigma=10, Gamma=1.2, Lambda=10, Psi=0, angle=0):\n",
        "    # get shape\n",
        "    H, W = gray.shape\n",
        "\n",
        "    # padding\n",
        "    gray = np.pad(gray, (K_size//2, K_size//2), 'edge')\n",
        "\n",
        "    # prepare out image\n",
        "    out = np.zeros((H, W), dtype=np.float32)\n",
        "\n",
        "    # get gabor filter\n",
        "    gabor = Gabor_filter(K_size=K_size, Sigma=Sigma, Gamma=Gamma, Lambda=Lambda, Psi=0, angle=angle)\n",
        "\n",
        "    # filtering\n",
        "    for y in range(H):\n",
        "        for x in range(W):\n",
        "            out[y, x] = np.sum(gray[y : y + K_size, x : x + K_size] * gabor)\n",
        "\n",
        "    out = np.clip(out, 0, 255)\n",
        "    out = out.astype(np.uint8)\n",
        "\n",
        "    return out\n",
        "\n",
        "\n",
        "# Use 6 Gabor filters with different angles to perform feature extraction on the image\n",
        "def Gabor_process(img):\n",
        "#     print(img.shape)\n",
        "    # get shape\n",
        "    H, W = img.shape\n",
        "\n",
        "    # gray scale\n",
        "#     gray = BGR2GRAY(img).astype(np.float32)\n",
        "\n",
        "    # define angle\n",
        "    #As = [0, 45, 90, 135]\n",
        "    As = [0,30,60,90,120,150]\n",
        "\n",
        "    # prepare pyplot\n",
        "#     plt.subplots_adjust(left=0, right=1, top=1, bottom=0, hspace=0, wspace=0.2)\n",
        "\n",
        "    out = np.zeros([H, W], dtype=np.float32)\n",
        "\n",
        "    # each angle\n",
        "    for i, A in enumerate(As):\n",
        "\n",
        "        # gabor filtering\n",
        "        _out = Gabor_filtering(img, K_size=11, Sigma=1.5, Gamma=1.2, Lambda=3, angle=A)\n",
        "\n",
        "\n",
        "        # add gabor filtered image\n",
        "        out += _out\n",
        "\n",
        "\n",
        "    # scale normalization\n",
        "    out = out /out.max()*255\n",
        "    out = out.astype(np.uint8)\n",
        "\n",
        "    return out"
      ]
    },
    {
      "cell_type": "code",
      "source": [
        "def Gabor_filter(K_size=111, Sigma=10, Gamma=1.2, Lambda=10, Psi=0, angle=0):\n",
        "    # get half size\n",
        "    d = K_size // 2\n",
        "\n",
        "    # prepare kernel\n",
        "    gabor = np.zeros((K_size, K_size), dtype=np.float32)\n",
        "\n",
        "    # each value\n",
        "    for y in range(K_size):\n",
        "        for x in range(K_size):\n",
        "            # distance from center\n",
        "            px = x - d\n",
        "            py = y - d\n",
        "\n",
        "            # degree -> radian\n",
        "            theta = angle / 180. * np.pi\n",
        "\n",
        "            # get kernel x\n",
        "            _x = np.cos(theta) * px + np.sin(theta) * py\n",
        "\n",
        "            # get kernel y\n",
        "            _y = -np.sin(theta) * px + np.cos(theta) * py\n",
        "\n",
        "            # fill kernel\n",
        "            gabor[y, x] = np.exp(-(_x**2 + Gamma**2 * _y**2) / (2 * Sigma**2)) * np.cos(2*np.pi*_x/Lambda + Psi)\n",
        "\n",
        "    # kernel normalization\n",
        "    gabor /= np.sum(np.abs(gabor))\n",
        "\n",
        "    return gabor\n",
        "\n",
        "\n",
        "# Use Gabor filter to act on the image\n",
        "def Gabor_filtering(gray, K_size=111, Sigma=10, Gamma=1.2, Lambda=10, Psi=0, angle=0):\n",
        "    # get shape\n",
        "    H, W = gray.shape\n",
        "\n",
        "    # padding\n",
        "    gray = np.pad(gray, (K_size//2, K_size//2), 'edge')\n",
        "\n",
        "    # prepare out image\n",
        "    out = np.zeros((H, W), dtype=np.float32)\n",
        "\n",
        "    # get gabor filter\n",
        "    gabor = Gabor_filter(K_size=K_size, Sigma=Sigma, Gamma=Gamma, Lambda=Lambda, Psi=0, angle=angle)\n",
        "\n",
        "    # filtering\n",
        "    for y in range(H):\n",
        "        for x in range(W):\n",
        "            out[y, x] = np.sum(gray[y : y + K_size, x : x + K_size] * gabor)\n",
        "\n",
        "    out = np.clip(out, 0, 255)\n",
        "    out = out.astype(np.uint8)\n",
        "\n",
        "    return out\n",
        "\n",
        "\n",
        "# Use 6 Gabor filters with different angles to perform feature extraction on the image\n",
        "def Gabor_process(img):\n",
        "#     print(img.shape)\n",
        "    # get shape\n",
        "    H, W = img.shape\n",
        "\n",
        "    # gray scale\n",
        "#     gray = BGR2GRAY(img).astype(np.float32)\n",
        "\n",
        "    # define angle\n",
        "    #As = [0, 45, 90, 135]\n",
        "    As = [0,30,60,90,120,150]\n",
        "\n",
        "    # prepare pyplot\n",
        "#     plt.subplots_adjust(left=0, right=1, top=1, bottom=0, hspace=0, wspace=0.2)\n",
        "\n",
        "    out = np.zeros([H, W], dtype=np.float32)\n",
        "\n",
        "    # each angle\n",
        "    for i, A in enumerate(As):\n",
        "\n",
        "        # gabor filtering\n",
        "        _out = Gabor_filtering(img, K_size=11, Sigma=1.5, Gamma=1.2, Lambda=3, angle=A)\n",
        "\n",
        "\n",
        "        # add gabor filtered image\n",
        "        out += _out\n",
        "    # scale normalization\n",
        "    out = out /out.max()*255\n",
        "    out = out.astype(np.uint8)\n",
        "    return out"
      ],
      "metadata": {
        "id": "iAcBNBv5ORTE"
      },
      "execution_count": null,
      "outputs": []
    },
    {
      "cell_type": "code",
      "source": [
        "!pip install tqdm\n"
      ],
      "metadata": {
        "id": "ntGxY8f9yKgi",
        "colab": {
          "base_uri": "https://localhost:8080/"
        },
        "outputId": "88de2ee1-69ec-4477-a5ac-a52f8e55268c"
      },
      "execution_count": null,
      "outputs": [
        {
          "output_type": "stream",
          "name": "stdout",
          "text": [
            "Requirement already satisfied: tqdm in /usr/local/lib/python3.10/dist-packages (4.66.5)\n"
          ]
        }
      ]
    },
    {
      "cell_type": "code",
      "source": [
        "X_train.shape"
      ],
      "metadata": {
        "id": "PuHIYHuYOfH5",
        "colab": {
          "base_uri": "https://localhost:8080/"
        },
        "outputId": "58806a7b-5e66-4073-faca-b7b878cc81c8"
      },
      "execution_count": null,
      "outputs": [
        {
          "output_type": "execute_result",
          "data": {
            "text/plain": [
              "(485, 48, 48, 3)"
            ]
          },
          "metadata": {},
          "execution_count": 42
        }
      ]
    },
    {
      "cell_type": "code",
      "source": [
        "!pip install tqdm\n"
      ],
      "metadata": {
        "id": "4jWb93HTx3Td",
        "colab": {
          "base_uri": "https://localhost:8080/"
        },
        "outputId": "b88b3027-0b15-40c5-9615-243867f995da"
      },
      "execution_count": null,
      "outputs": [
        {
          "output_type": "stream",
          "name": "stdout",
          "text": [
            "Requirement already satisfied: tqdm in /usr/local/lib/python3.10/dist-packages (4.66.5)\n"
          ]
        }
      ]
    },
    {
      "cell_type": "code",
      "source": [
        "from tqdm import tqdm\n",
        "\n",
        "def create_Gabor_features(data):\n",
        "    Feature_data = np.zeros((len(data),128,128,3)) # changed 48 to 128\n",
        "\n",
        "    for i in tqdm(range(len(data))): # Added progress bar\n",
        "        img = data[i]\n",
        "        out = Gabor_process(img)\n",
        "        out = np.expand_dims(out , axis = 2) # adding color channel\n",
        "        Feature_data[i] = out/255.00\n",
        "\n",
        "\n",
        "    return Feature_data"
      ],
      "metadata": {
        "id": "kDg6VOddx_Ob"
      },
      "execution_count": null,
      "outputs": []
    },
    {
      "cell_type": "code",
      "source": [
        "X_train_Gab=create_Gabor_features(X_train_Gabor)\n",
        "X_test_Gab=create_Gabor_features(X_test_Gabor)\n",
        "\n",
        "X_train_Gab.shape , X_test_Gab.shape"
      ],
      "metadata": {
        "id": "6tbAtr6_Ohma",
        "colab": {
          "base_uri": "https://localhost:8080/"
        },
        "outputId": "5f1099b5-0532-4e0c-c00e-caf79605311c"
      },
      "execution_count": null,
      "outputs": [
        {
          "output_type": "stream",
          "name": "stderr",
          "text": [
            "  0%|          | 0/485 [00:00<?, ?it/s]<ipython-input-40-a6aae3a202b5>:86: RuntimeWarning: invalid value encountered in divide\n",
            "  out = out /out.max()*255\n",
            "<ipython-input-40-a6aae3a202b5>:87: RuntimeWarning: invalid value encountered in cast\n",
            "  out = out.astype(np.uint8)\n",
            "100%|██████████| 485/485 [06:02<00:00,  1.34it/s]\n",
            "100%|██████████| 122/122 [01:27<00:00,  1.40it/s]\n"
          ]
        },
        {
          "output_type": "execute_result",
          "data": {
            "text/plain": [
              "((485, 128, 128, 3), (122, 128, 128, 3))"
            ]
          },
          "metadata": {},
          "execution_count": 45
        }
      ]
    },
    {
      "cell_type": "code",
      "source": [
        "X_train_Gab.shape"
      ],
      "metadata": {
        "id": "77eIPvPBOjwb",
        "colab": {
          "base_uri": "https://localhost:8080/"
        },
        "outputId": "84418cc9-97f2-4026-cd45-b51908bd6967"
      },
      "execution_count": null,
      "outputs": [
        {
          "output_type": "execute_result",
          "data": {
            "text/plain": [
              "(485, 128, 128, 3)"
            ]
          },
          "metadata": {},
          "execution_count": 46
        }
      ]
    },
    {
      "cell_type": "code",
      "source": [
        "img = random.choice(X_test_Gab)\n",
        "plt.imshow(img[:,:,0], cmap='gray')"
      ],
      "metadata": {
        "id": "tiL-5-bYOmD4",
        "colab": {
          "base_uri": "https://localhost:8080/",
          "height": 850
        },
        "outputId": "2e34cc4c-7eb3-4f30-9374-803f9faf1204"
      },
      "execution_count": null,
      "outputs": [
        {
          "output_type": "execute_result",
          "data": {
            "text/plain": [
              "<matplotlib.image.AxesImage at 0x7f4e7d671e70>"
            ]
          },
          "metadata": {},
          "execution_count": 47
        },
        {
          "output_type": "display_data",
          "data": {
            "text/plain": [
              "<Figure size 1500x1000 with 1 Axes>"
            ],
            "image/png": "[encoded data removed]"
          },
          "metadata": {}
        }
      ]
    },
    {
      "cell_type": "markdown",
      "source": [
        "# k-Fold Cross-Validation\n",
        "\n",
        "> Add blockquote\n",
        "\n"
      ],
      "metadata": {
        "id": "9IfPfCIWDzmg"
      }
    },
    {
      "cell_type": "code",
      "source": [
        "from sklearn.model_selection import KFold"
      ],
      "metadata": {
        "id": "CAO--xgfxHes"
      },
      "execution_count": null,
      "outputs": []
    },
    {
      "cell_type": "code",
      "source": [
        "kf = KFold(n_splits=5, shuffle=False)"
      ],
      "metadata": {
        "id": "J2w6gNckxJHl"
      },
      "execution_count": null,
      "outputs": []
    },
    {
      "cell_type": "code",
      "source": [
        "from keras.preprocessing.image import ImageDataGenerator\n",
        "\n",
        "aug = ImageDataGenerator(\n",
        "    rotation_range=25, width_shift_range=0.1,\n",
        "    height_shift_range=0.1, shear_range=0.2,\n",
        "    zoom_range=0.2,horizontal_flip=True,\n",
        "    fill_mode=\"nearest\")"
      ],
      "metadata": {
        "id": "xsCf1fOoxK7Q"
      },
      "execution_count": null,
      "outputs": []
    },
    {
      "cell_type": "markdown",
      "source": [
        "# Create Model"
      ],
      "metadata": {
        "id": "D3746wW71UC7"
      }
    },
    {
      "cell_type": "code",
      "source": [
        "from keras.models import Sequential\n",
        "model = Sequential()\n",
        "# Change the input shape to (48, 48, 3) to match your training data\n",
        "model.add(Conv2D(32, (3, 3), input_shape=(48, 48, 3), activation='relu'))\n",
        "model.add(MaxPooling2D(pool_size=(2, 2)))\n",
        "model.add(Conv2D(64, (3, 3), activation='relu'))\n",
        "model.add(MaxPooling2D(pool_size=(2, 2)))\n",
        "model.add(Flatten())\n",
        "model.add(Dense(64, activation='relu'))\n",
        "model.add(Dense(5, activation='softmax'))\n"
      ],
      "metadata": {
        "id": "KUwELxz9Ahs7"
      },
      "execution_count": null,
      "outputs": []
    },
    {
      "cell_type": "code",
      "source": [
        "model.compile(optimizer='adam', loss='categorical_crossentropy', metrics=['accuracy'])\n"
      ],
      "metadata": {
        "id": "fC9fKkHFhDox"
      },
      "execution_count": null,
      "outputs": []
    },
    {
      "cell_type": "code",
      "source": [
        "es = EarlyStopping(\n",
        "    monitor='val_accuracy', min_delta=0.0001, patience=5, verbose=2,\n",
        "    mode='max', baseline=None, restore_best_weights=True\n",
        ")\n",
        "lr = ReduceLROnPlateau(\n",
        "    monitor='val_accuracy', factor=0.1, patience=5, verbose=2,\n",
        "    mode='max', min_delta=1e-5, cooldown=0, min_lr=0\n",
        ")\n",
        "\n",
        "callbacks = [es, lr]"
      ],
      "metadata": {
        "id": "CeCXPMRejBYv"
      },
      "execution_count": null,
      "outputs": []
    },
    {
      "cell_type": "code",
      "source": [
        "# Example of how to create the model\n",
        "model.summary()"
      ],
      "metadata": {
        "id": "jlbm7rvZgCGc",
        "colab": {
          "base_uri": "https://localhost:8080/"
        },
        "outputId": "4f92a275-2ae7-4358-8a17-98ad9e36141b"
      },
      "execution_count": null,
      "outputs": [
        {
          "output_type": "stream",
          "name": "stdout",
          "text": [
            "Model: \"sequential\"\n",
            "_________________________________________________________________\n",
            " Layer (type)                Output Shape              Param #   \n",
            "=================================================================\n",
            " conv2d (Conv2D)             (None, 46, 46, 32)        896       \n",
            "                                                                 \n",
            " max_pooling2d (MaxPooling2D  (None, 23, 23, 32)       0         \n",
            " )                                                               \n",
            "                                                                 \n",
            " conv2d_1 (Conv2D)           (None, 21, 21, 64)        18496     \n",
            "                                                                 \n",
            " max_pooling2d_1 (MaxPooling  (None, 10, 10, 64)       0         \n",
            " 2D)                                                             \n",
            "                                                                 \n",
            " flatten (Flatten)           (None, 6400)              0         \n",
            "                                                                 \n",
            " dense (Dense)               (None, 64)                409664    \n",
            "                                                                 \n",
            " dense_1 (Dense)             (None, 5)                 325       \n",
            "                                                                 \n",
            "=================================================================\n",
            "Total params: 429,381\n",
            "Trainable params: 429,381\n",
            "Non-trainable params: 0\n",
            "_________________________________________________________________\n"
          ]
        }
      ]
    },
    {
      "cell_type": "markdown",
      "source": [
        "# Training Model"
      ],
      "metadata": {
        "id": "sqWFu2dkQb4t"
      }
    },
    {
      "cell_type": "code",
      "source": [
        "BS = 10\n",
        "EPOCHS = 150\n",
        "result = []\n",
        "scores_loss = []\n",
        "scores_acc = []\n",
        "k_no = 0\n",
        "for Feature_X_train, Feature_X_test in kf.split(x):\n",
        "    X_Train_ = x[Feature_X_train]\n",
        "    Y_Train = y[Feature_X_train]\n",
        "    X_Test_ = x[Feature_X_test]\n",
        "    Y_Test = y[Feature_X_test]\n",
        "\n",
        "    file_path = \"/kaggle/working/weights_best_\"+str(k_no)+\".hdf5\"\n",
        "    checkpoint = ModelCheckpoint(file_path, monitor='loss', verbose=1, save_best_only=True, mode='min')\n",
        "    early = EarlyStopping(monitor=\"loss\", mode=\"min\", patience=8)\n",
        "\n",
        "    callbacks_list = [checkpoint, early]\n",
        "\n",
        "    hist = model.fit(aug.flow(X_Train_, Y_Train), epochs=EPOCHS,validation_data=(X_Test_, Y_Test), callbacks=callbacks_list, verbose=1)\n",
        "\n",
        "    model.load_weights(file_path)\n",
        "    result.append(model.predict(X_Test_))\n",
        "    score = model.evaluate(X_Test_,Y_Test, verbose=0)\n",
        "    scores_loss.append(score[0])\n",
        "    scores_acc.append(score[1])\n",
        "    k_no+=1"
      ],
      "metadata": {
        "collapsed": true,
        "id": "KMIHAC5LjRzG",
        "colab": {
          "base_uri": "https://localhost:8080/"
        },
        "outputId": "f732397e-e6b2-43f0-f028-f9c99e9952e8"
      },
      "execution_count": null,
      "outputs": [
        {
          "output_type": "stream",
          "name": "stdout",
          "text": [
            "Epoch 1/150\n",
            "16/16 [==============================] - ETA: 0s - loss: 1.4596 - accuracy: 0.3814\n",
            "Epoch 1: loss improved from inf to 1.45965, saving model to /kaggle/working/weights_best_0.hdf5\n",
            "16/16 [==============================] - 4s 225ms/step - loss: 1.4596 - accuracy: 0.3814 - val_loss: 1.4626 - val_accuracy: 0.4262\n",
            "Epoch 2/150\n",
            "16/16 [==============================] - ETA: 0s - loss: 1.3619 - accuracy: 0.4062\n",
            "Epoch 2: loss improved from 1.45965 to 1.36191, saving model to /kaggle/working/weights_best_0.hdf5\n",
            "16/16 [==============================] - 3s 191ms/step - loss: 1.3619 - accuracy: 0.4062 - val_loss: 1.5561 - val_accuracy: 0.2951\n",
            "Epoch 3/150\n",
            "16/16 [==============================] - ETA: 0s - loss: 1.3068 - accuracy: 0.4598\n",
            "Epoch 3: loss improved from 1.36191 to 1.30680, saving model to /kaggle/working/weights_best_0.hdf5\n",
            "16/16 [==============================] - 3s 170ms/step - loss: 1.3068 - accuracy: 0.4598 - val_loss: 1.3951 - val_accuracy: 0.3934\n",
            "Epoch 4/150\n",
            "16/16 [==============================] - ETA: 0s - loss: 1.2230 - accuracy: 0.4866\n",
            "Epoch 4: loss improved from 1.30680 to 1.22298, saving model to /kaggle/working/weights_best_0.hdf5\n",
            "16/16 [==============================] - 4s 233ms/step - loss: 1.2230 - accuracy: 0.4866 - val_loss: 1.3369 - val_accuracy: 0.4180\n",
            "Epoch 5/150\n",
            "16/16 [==============================] - ETA: 0s - loss: 1.1980 - accuracy: 0.4990\n",
            "Epoch 5: loss improved from 1.22298 to 1.19796, saving model to /kaggle/working/weights_best_0.hdf5\n",
            "16/16 [==============================] - 4s 227ms/step - loss: 1.1980 - accuracy: 0.4990 - val_loss: 1.2830 - val_accuracy: 0.4590\n",
            "Epoch 6/150\n",
            "16/16 [==============================] - ETA: 0s - loss: 1.1713 - accuracy: 0.5361\n",
            "Epoch 6: loss improved from 1.19796 to 1.17125, saving model to /kaggle/working/weights_best_0.hdf5\n",
            "16/16 [==============================] - 3s 179ms/step - loss: 1.1713 - accuracy: 0.5361 - val_loss: 1.3316 - val_accuracy: 0.4590\n",
            "Epoch 7/150\n",
            "16/16 [==============================] - ETA: 0s - loss: 1.1332 - accuracy: 0.5340\n",
            "Epoch 7: loss improved from 1.17125 to 1.13325, saving model to /kaggle/working/weights_best_0.hdf5\n",
            "16/16 [==============================] - 3s 207ms/step - loss: 1.1332 - accuracy: 0.5340 - val_loss: 1.2284 - val_accuracy: 0.3852\n",
            "Epoch 8/150\n",
            "16/16 [==============================] - ETA: 0s - loss: 1.1682 - accuracy: 0.5031\n",
            "Epoch 8: loss did not improve from 1.13325\n",
            "16/16 [==============================] - 2s 150ms/step - loss: 1.1682 - accuracy: 0.5031 - val_loss: 1.3481 - val_accuracy: 0.4180\n",
            "Epoch 9/150\n",
            "16/16 [==============================] - ETA: 0s - loss: 1.0866 - accuracy: 0.5278\n",
            "Epoch 9: loss improved from 1.13325 to 1.08664, saving model to /kaggle/working/weights_best_0.hdf5\n",
            "16/16 [==============================] - 2s 97ms/step - loss: 1.0866 - accuracy: 0.5278 - val_loss: 1.1945 - val_accuracy: 0.5000\n",
            "Epoch 10/150\n",
            "15/16 [===========================>..] - ETA: 0s - loss: 1.0155 - accuracy: 0.5896\n",
            "Epoch 10: loss improved from 1.08664 to 1.02459, saving model to /kaggle/working/weights_best_0.hdf5\n",
            "16/16 [==============================] - 2s 102ms/step - loss: 1.0246 - accuracy: 0.5876 - val_loss: 1.1223 - val_accuracy: 0.5574\n",
            "Epoch 11/150\n",
            "16/16 [==============================] - ETA: 0s - loss: 1.0289 - accuracy: 0.5856\n",
            "Epoch 11: loss did not improve from 1.02459\n",
            "16/16 [==============================] - 2s 96ms/step - loss: 1.0289 - accuracy: 0.5856 - val_loss: 1.1234 - val_accuracy: 0.5164\n",
            "Epoch 12/150\n",
            "16/16 [==============================] - ETA: 0s - loss: 0.9866 - accuracy: 0.6021\n",
            "Epoch 12: loss improved from 1.02459 to 0.98659, saving model to /kaggle/working/weights_best_0.hdf5\n",
            "16/16 [==============================] - 2s 96ms/step - loss: 0.9866 - accuracy: 0.6021 - val_loss: 1.0362 - val_accuracy: 0.4836\n",
            "Epoch 13/150\n",
            "16/16 [==============================] - ETA: 0s - loss: 0.9244 - accuracy: 0.6433\n",
            "Epoch 13: loss improved from 0.98659 to 0.92442, saving model to /kaggle/working/weights_best_0.hdf5\n",
            "16/16 [==============================] - 2s 103ms/step - loss: 0.9244 - accuracy: 0.6433 - val_loss: 1.0441 - val_accuracy: 0.5902\n",
            "Epoch 14/150\n",
            "15/16 [===========================>..] - ETA: 0s - loss: 1.0080 - accuracy: 0.6417\n",
            "Epoch 14: loss did not improve from 0.92442\n",
            "16/16 [==============================] - 2s 101ms/step - loss: 1.0104 - accuracy: 0.6371 - val_loss: 0.9661 - val_accuracy: 0.6230\n",
            "Epoch 15/150\n",
            "16/16 [==============================] - ETA: 0s - loss: 0.9179 - accuracy: 0.6515\n",
            "Epoch 15: loss improved from 0.92442 to 0.91786, saving model to /kaggle/working/weights_best_0.hdf5\n",
            "16/16 [==============================] - 3s 156ms/step - loss: 0.9179 - accuracy: 0.6515 - val_loss: 1.1236 - val_accuracy: 0.5410\n",
            "Epoch 16/150\n",
            "16/16 [==============================] - ETA: 0s - loss: 0.9565 - accuracy: 0.6309\n",
            "Epoch 16: loss did not improve from 0.91786\n",
            "16/16 [==============================] - 2s 97ms/step - loss: 0.9565 - accuracy: 0.6309 - val_loss: 1.1352 - val_accuracy: 0.5328\n",
            "Epoch 17/150\n",
            "16/16 [==============================] - ETA: 0s - loss: 0.9846 - accuracy: 0.5814\n",
            "Epoch 17: loss did not improve from 0.91786\n",
            "16/16 [==============================] - 2s 98ms/step - loss: 0.9846 - accuracy: 0.5814 - val_loss: 1.2402 - val_accuracy: 0.4918\n",
            "Epoch 18/150\n",
            "16/16 [==============================] - ETA: 0s - loss: 0.9048 - accuracy: 0.6536\n",
            "Epoch 18: loss improved from 0.91786 to 0.90481, saving model to /kaggle/working/weights_best_0.hdf5\n",
            "16/16 [==============================] - 2s 100ms/step - loss: 0.9048 - accuracy: 0.6536 - val_loss: 1.0012 - val_accuracy: 0.5738\n",
            "Epoch 19/150\n",
            "16/16 [==============================] - ETA: 0s - loss: 0.8515 - accuracy: 0.6722\n",
            "Epoch 19: loss improved from 0.90481 to 0.85146, saving model to /kaggle/working/weights_best_0.hdf5\n",
            "16/16 [==============================] - 2s 101ms/step - loss: 0.8515 - accuracy: 0.6722 - val_loss: 1.0059 - val_accuracy: 0.5820\n",
            "Epoch 20/150\n",
            "16/16 [==============================] - ETA: 0s - loss: 0.8029 - accuracy: 0.6928\n",
            "Epoch 20: loss improved from 0.85146 to 0.80289, saving model to /kaggle/working/weights_best_0.hdf5\n",
            "16/16 [==============================] - 2s 124ms/step - loss: 0.8029 - accuracy: 0.6928 - val_loss: 0.9289 - val_accuracy: 0.5328\n",
            "Epoch 21/150\n",
            "16/16 [==============================] - ETA: 0s - loss: 0.8119 - accuracy: 0.6804\n",
            "Epoch 21: loss did not improve from 0.80289\n",
            "16/16 [==============================] - 3s 161ms/step - loss: 0.8119 - accuracy: 0.6804 - val_loss: 0.9628 - val_accuracy: 0.5492\n",
            "Epoch 22/150\n",
            "16/16 [==============================] - ETA: 0s - loss: 0.9219 - accuracy: 0.6660\n",
            "Epoch 22: loss did not improve from 0.80289\n",
            "16/16 [==============================] - 2s 100ms/step - loss: 0.9219 - accuracy: 0.6660 - val_loss: 0.9251 - val_accuracy: 0.5410\n",
            "Epoch 23/150\n",
            "16/16 [==============================] - ETA: 0s - loss: 0.8485 - accuracy: 0.6701\n",
            "Epoch 23: loss did not improve from 0.80289\n",
            "16/16 [==============================] - 2s 99ms/step - loss: 0.8485 - accuracy: 0.6701 - val_loss: 0.8844 - val_accuracy: 0.6311\n",
            "Epoch 24/150\n",
            "16/16 [==============================] - ETA: 0s - loss: 0.7371 - accuracy: 0.7155\n",
            "Epoch 24: loss improved from 0.80289 to 0.73709, saving model to /kaggle/working/weights_best_0.hdf5\n",
            "16/16 [==============================] - 2s 98ms/step - loss: 0.7371 - accuracy: 0.7155 - val_loss: 0.8626 - val_accuracy: 0.6557\n",
            "Epoch 25/150\n",
            "16/16 [==============================] - ETA: 0s - loss: 0.7576 - accuracy: 0.7155\n",
            "Epoch 25: loss did not improve from 0.73709\n",
            "16/16 [==============================] - 2s 101ms/step - loss: 0.7576 - accuracy: 0.7155 - val_loss: 0.8581 - val_accuracy: 0.6475\n",
            "Epoch 26/150\n",
            "16/16 [==============================] - ETA: 0s - loss: 0.7972 - accuracy: 0.7031\n",
            "Epoch 26: loss did not improve from 0.73709\n",
            "16/16 [==============================] - 2s 117ms/step - loss: 0.7972 - accuracy: 0.7031 - val_loss: 0.8193 - val_accuracy: 0.6475\n",
            "Epoch 27/150\n",
            "16/16 [==============================] - ETA: 0s - loss: 0.7609 - accuracy: 0.7093\n",
            "Epoch 27: loss did not improve from 0.73709\n",
            "16/16 [==============================] - 3s 162ms/step - loss: 0.7609 - accuracy: 0.7093 - val_loss: 0.8525 - val_accuracy: 0.6475\n",
            "Epoch 28/150\n",
            "16/16 [==============================] - ETA: 0s - loss: 0.7251 - accuracy: 0.7402\n",
            "Epoch 28: loss improved from 0.73709 to 0.72513, saving model to /kaggle/working/weights_best_0.hdf5\n",
            "16/16 [==============================] - 2s 101ms/step - loss: 0.7251 - accuracy: 0.7402 - val_loss: 0.8278 - val_accuracy: 0.6803\n",
            "Epoch 29/150\n",
            "16/16 [==============================] - ETA: 0s - loss: 0.7449 - accuracy: 0.7320\n",
            "Epoch 29: loss did not improve from 0.72513\n",
            "16/16 [==============================] - 2s 99ms/step - loss: 0.7449 - accuracy: 0.7320 - val_loss: 0.8647 - val_accuracy: 0.6721\n",
            "Epoch 30/150\n",
            "16/16 [==============================] - ETA: 0s - loss: 0.6899 - accuracy: 0.7546\n",
            "Epoch 30: loss improved from 0.72513 to 0.68991, saving model to /kaggle/working/weights_best_0.hdf5\n",
            "16/16 [==============================] - 2s 101ms/step - loss: 0.6899 - accuracy: 0.7546 - val_loss: 0.8230 - val_accuracy: 0.6885\n",
            "Epoch 31/150\n",
            "16/16 [==============================] - ETA: 0s - loss: 0.7562 - accuracy: 0.7134\n",
            "Epoch 31: loss did not improve from 0.68991\n",
            "16/16 [==============================] - 2s 101ms/step - loss: 0.7562 - accuracy: 0.7134 - val_loss: 0.8019 - val_accuracy: 0.6967\n",
            "Epoch 32/150\n",
            "16/16 [==============================] - ETA: 0s - loss: 0.6797 - accuracy: 0.7464\n",
            "Epoch 32: loss improved from 0.68991 to 0.67972, saving model to /kaggle/working/weights_best_0.hdf5\n",
            "16/16 [==============================] - 3s 158ms/step - loss: 0.6797 - accuracy: 0.7464 - val_loss: 0.7664 - val_accuracy: 0.6475\n",
            "Epoch 33/150\n",
            "15/16 [===========================>..] - ETA: 0s - loss: 0.6304 - accuracy: 0.7812\n",
            "Epoch 33: loss improved from 0.67972 to 0.63150, saving model to /kaggle/working/weights_best_0.hdf5\n",
            "16/16 [==============================] - 3s 165ms/step - loss: 0.6315 - accuracy: 0.7814 - val_loss: 0.6880 - val_accuracy: 0.7295\n",
            "Epoch 34/150\n",
            "15/16 [===========================>..] - ETA: 0s - loss: 0.6401 - accuracy: 0.7458\n",
            "Epoch 34: loss did not improve from 0.63150\n",
            "16/16 [==============================] - 2s 98ms/step - loss: 0.6357 - accuracy: 0.7485 - val_loss: 0.8196 - val_accuracy: 0.6885\n",
            "Epoch 35/150\n",
            "16/16 [==============================] - ETA: 0s - loss: 0.6410 - accuracy: 0.7649\n",
            "Epoch 35: loss did not improve from 0.63150\n",
            "16/16 [==============================] - 2s 99ms/step - loss: 0.6410 - accuracy: 0.7649 - val_loss: 0.7839 - val_accuracy: 0.6803\n",
            "Epoch 36/150\n",
            "16/16 [==============================] - ETA: 0s - loss: 0.6097 - accuracy: 0.8041\n",
            "Epoch 36: loss improved from 0.63150 to 0.60967, saving model to /kaggle/working/weights_best_0.hdf5\n",
            "16/16 [==============================] - 2s 100ms/step - loss: 0.6097 - accuracy: 0.8041 - val_loss: 0.6915 - val_accuracy: 0.7541\n",
            "Epoch 37/150\n",
            "16/16 [==============================] - ETA: 0s - loss: 0.6102 - accuracy: 0.7773\n",
            "Epoch 37: loss did not improve from 0.60967\n",
            "16/16 [==============================] - 2s 97ms/step - loss: 0.6102 - accuracy: 0.7773 - val_loss: 0.8667 - val_accuracy: 0.5820\n",
            "Epoch 38/150\n",
            "16/16 [==============================] - ETA: 0s - loss: 0.6838 - accuracy: 0.7361\n",
            "Epoch 38: loss did not improve from 0.60967\n",
            "16/16 [==============================] - 2s 108ms/step - loss: 0.6838 - accuracy: 0.7361 - val_loss: 0.7280 - val_accuracy: 0.7049\n",
            "Epoch 39/150\n",
            "16/16 [==============================] - ETA: 0s - loss: 0.7270 - accuracy: 0.7196\n",
            "Epoch 39: loss did not improve from 0.60967\n",
            "16/16 [==============================] - 3s 162ms/step - loss: 0.7270 - accuracy: 0.7196 - val_loss: 1.3395 - val_accuracy: 0.4754\n",
            "Epoch 40/150\n",
            "16/16 [==============================] - ETA: 0s - loss: 0.7220 - accuracy: 0.7464\n",
            "Epoch 40: loss did not improve from 0.60967\n",
            "16/16 [==============================] - 2s 98ms/step - loss: 0.7220 - accuracy: 0.7464 - val_loss: 0.8815 - val_accuracy: 0.6230\n",
            "Epoch 41/150\n",
            "16/16 [==============================] - ETA: 0s - loss: 0.6066 - accuracy: 0.7773\n",
            "Epoch 41: loss improved from 0.60967 to 0.60663, saving model to /kaggle/working/weights_best_0.hdf5\n",
            "16/16 [==============================] - 2s 100ms/step - loss: 0.6066 - accuracy: 0.7773 - val_loss: 0.6487 - val_accuracy: 0.7787\n",
            "Epoch 42/150\n",
            "16/16 [==============================] - ETA: 0s - loss: 0.5924 - accuracy: 0.7629\n",
            "Epoch 42: loss improved from 0.60663 to 0.59243, saving model to /kaggle/working/weights_best_0.hdf5\n",
            "16/16 [==============================] - 2s 102ms/step - loss: 0.5924 - accuracy: 0.7629 - val_loss: 0.6586 - val_accuracy: 0.7705\n",
            "Epoch 43/150\n",
            "16/16 [==============================] - ETA: 0s - loss: 0.6414 - accuracy: 0.7711\n",
            "Epoch 43: loss did not improve from 0.59243\n",
            "16/16 [==============================] - 2s 144ms/step - loss: 0.6414 - accuracy: 0.7711 - val_loss: 0.7231 - val_accuracy: 0.6967\n",
            "Epoch 44/150\n",
            "16/16 [==============================] - ETA: 0s - loss: 0.5801 - accuracy: 0.7856\n",
            "Epoch 44: loss improved from 0.59243 to 0.58014, saving model to /kaggle/working/weights_best_0.hdf5\n",
            "16/16 [==============================] - 2s 119ms/step - loss: 0.5801 - accuracy: 0.7856 - val_loss: 0.6138 - val_accuracy: 0.7787\n",
            "Epoch 45/150\n",
            "16/16 [==============================] - ETA: 0s - loss: 0.5568 - accuracy: 0.7959\n",
            "Epoch 45: loss improved from 0.58014 to 0.55683, saving model to /kaggle/working/weights_best_0.hdf5\n",
            "16/16 [==============================] - 3s 165ms/step - loss: 0.5568 - accuracy: 0.7959 - val_loss: 0.6917 - val_accuracy: 0.7049\n",
            "Epoch 46/150\n",
            "16/16 [==============================] - ETA: 0s - loss: 0.5534 - accuracy: 0.8000\n",
            "Epoch 46: loss improved from 0.55683 to 0.55337, saving model to /kaggle/working/weights_best_0.hdf5\n",
            "16/16 [==============================] - 2s 100ms/step - loss: 0.5534 - accuracy: 0.8000 - val_loss: 0.5915 - val_accuracy: 0.8033\n",
            "Epoch 47/150\n",
            "15/16 [===========================>..] - ETA: 0s - loss: 0.4892 - accuracy: 0.8292\n",
            "Epoch 47: loss improved from 0.55337 to 0.48527, saving model to /kaggle/working/weights_best_0.hdf5\n",
            "16/16 [==============================] - 2s 101ms/step - loss: 0.4853 - accuracy: 0.8309 - val_loss: 0.6131 - val_accuracy: 0.7869\n",
            "Epoch 48/150\n",
            "16/16 [==============================] - ETA: 0s - loss: 0.5364 - accuracy: 0.8186\n",
            "Epoch 48: loss did not improve from 0.48527\n",
            "16/16 [==============================] - 2s 99ms/step - loss: 0.5364 - accuracy: 0.8186 - val_loss: 0.7779 - val_accuracy: 0.6885\n",
            "Epoch 49/150\n",
            "16/16 [==============================] - ETA: 0s - loss: 0.5318 - accuracy: 0.8041\n",
            "Epoch 49: loss did not improve from 0.48527\n",
            "16/16 [==============================] - 2s 98ms/step - loss: 0.5318 - accuracy: 0.8041 - val_loss: 0.7025 - val_accuracy: 0.7131\n",
            "Epoch 50/150\n",
            "16/16 [==============================] - ETA: 0s - loss: 0.5366 - accuracy: 0.8144\n",
            "Epoch 50: loss did not improve from 0.48527\n",
            "16/16 [==============================] - 2s 101ms/step - loss: 0.5366 - accuracy: 0.8144 - val_loss: 0.6824 - val_accuracy: 0.7459\n",
            "Epoch 51/150\n",
            "16/16 [==============================] - ETA: 0s - loss: 0.5125 - accuracy: 0.8247\n",
            "Epoch 51: loss did not improve from 0.48527\n",
            "16/16 [==============================] - 2s 99ms/step - loss: 0.5125 - accuracy: 0.8247 - val_loss: 0.5931 - val_accuracy: 0.7541\n",
            "Epoch 52/150\n",
            "16/16 [==============================] - ETA: 0s - loss: 0.5164 - accuracy: 0.8186\n",
            "Epoch 52: loss did not improve from 0.48527\n",
            "16/16 [==============================] - 2s 156ms/step - loss: 0.5164 - accuracy: 0.8186 - val_loss: 0.6098 - val_accuracy: 0.7459\n",
            "Epoch 53/150\n",
            "16/16 [==============================] - ETA: 0s - loss: 0.5439 - accuracy: 0.8206\n",
            "Epoch 53: loss did not improve from 0.48527\n",
            "16/16 [==============================] - 3s 165ms/step - loss: 0.5439 - accuracy: 0.8206 - val_loss: 0.7326 - val_accuracy: 0.7131\n",
            "Epoch 54/150\n",
            "16/16 [==============================] - ETA: 0s - loss: 0.5040 - accuracy: 0.8474\n",
            "Epoch 54: loss did not improve from 0.48527\n",
            "16/16 [==============================] - 2s 98ms/step - loss: 0.5040 - accuracy: 0.8474 - val_loss: 0.6575 - val_accuracy: 0.7377\n",
            "Epoch 55/150\n",
            "16/16 [==============================] - ETA: 0s - loss: 0.4680 - accuracy: 0.8412\n",
            "Epoch 55: loss improved from 0.48527 to 0.46800, saving model to /kaggle/working/weights_best_0.hdf5\n",
            "16/16 [==============================] - 2s 102ms/step - loss: 0.4680 - accuracy: 0.8412 - val_loss: 0.5276 - val_accuracy: 0.8197\n",
            "Epoch 56/150\n",
            "16/16 [==============================] - ETA: 0s - loss: 0.5213 - accuracy: 0.8103\n",
            "Epoch 56: loss did not improve from 0.46800\n",
            "16/16 [==============================] - 2s 99ms/step - loss: 0.5213 - accuracy: 0.8103 - val_loss: 0.5927 - val_accuracy: 0.8115\n",
            "Epoch 57/150\n",
            "16/16 [==============================] - ETA: 0s - loss: 0.4593 - accuracy: 0.8474\n",
            "Epoch 57: loss improved from 0.46800 to 0.45926, saving model to /kaggle/working/weights_best_0.hdf5\n",
            "16/16 [==============================] - 2s 108ms/step - loss: 0.4593 - accuracy: 0.8474 - val_loss: 0.7157 - val_accuracy: 0.7295\n",
            "Epoch 58/150\n",
            "16/16 [==============================] - ETA: 0s - loss: 0.5178 - accuracy: 0.8186\n",
            "Epoch 58: loss did not improve from 0.45926\n",
            "16/16 [==============================] - 2s 121ms/step - loss: 0.5178 - accuracy: 0.8186 - val_loss: 0.6082 - val_accuracy: 0.7787\n",
            "Epoch 59/150\n",
            "16/16 [==============================] - ETA: 0s - loss: 0.4913 - accuracy: 0.8268\n",
            "Epoch 59: loss did not improve from 0.45926\n",
            "16/16 [==============================] - 4s 280ms/step - loss: 0.4913 - accuracy: 0.8268 - val_loss: 0.5993 - val_accuracy: 0.7377\n",
            "Epoch 60/150\n",
            "16/16 [==============================] - ETA: 0s - loss: 0.5349 - accuracy: 0.8041\n",
            "Epoch 60: loss did not improve from 0.45926\n",
            "16/16 [==============================] - 2s 101ms/step - loss: 0.5349 - accuracy: 0.8041 - val_loss: 0.6056 - val_accuracy: 0.7377\n",
            "Epoch 61/150\n",
            "16/16 [==============================] - ETA: 0s - loss: 0.7465 - accuracy: 0.7505\n",
            "Epoch 61: loss did not improve from 0.45926\n",
            "16/16 [==============================] - 2s 105ms/step - loss: 0.7465 - accuracy: 0.7505 - val_loss: 0.9658 - val_accuracy: 0.6475\n",
            "Epoch 62/150\n",
            "16/16 [==============================] - ETA: 0s - loss: 0.5434 - accuracy: 0.8165\n",
            "Epoch 62: loss did not improve from 0.45926\n",
            "16/16 [==============================] - 2s 101ms/step - loss: 0.5434 - accuracy: 0.8165 - val_loss: 0.5786 - val_accuracy: 0.7705\n",
            "Epoch 63/150\n",
            "16/16 [==============================] - ETA: 0s - loss: 0.5224 - accuracy: 0.7897\n",
            "Epoch 63: loss did not improve from 0.45926\n",
            "16/16 [==============================] - 2s 98ms/step - loss: 0.5224 - accuracy: 0.7897 - val_loss: 0.6015 - val_accuracy: 0.7623\n",
            "Epoch 64/150\n",
            "16/16 [==============================] - ETA: 0s - loss: 0.5110 - accuracy: 0.8165\n",
            "Epoch 64: loss did not improve from 0.45926\n",
            "16/16 [==============================] - 2s 100ms/step - loss: 0.5110 - accuracy: 0.8165 - val_loss: 0.6315 - val_accuracy: 0.7705\n",
            "Epoch 65/150\n",
            "16/16 [==============================] - ETA: 0s - loss: 0.4879 - accuracy: 0.8392\n",
            "Epoch 65: loss did not improve from 0.45926\n",
            "16/16 [==============================] - 2s 154ms/step - loss: 0.4879 - accuracy: 0.8392 - val_loss: 0.6537 - val_accuracy: 0.7705\n",
            "4/4 [==============================] - 0s 29ms/step\n",
            "Epoch 1/150\n",
            "16/16 [==============================] - ETA: 0s - loss: 0.5269 - accuracy: 0.8082\n",
            "Epoch 1: loss improved from inf to 0.52691, saving model to /kaggle/working/weights_best_1.hdf5\n",
            "16/16 [==============================] - 3s 167ms/step - loss: 0.5269 - accuracy: 0.8082 - val_loss: 0.4505 - val_accuracy: 0.8770\n",
            "Epoch 2/150\n",
            "16/16 [==============================] - ETA: 0s - loss: 0.5655 - accuracy: 0.7897\n",
            "Epoch 2: loss did not improve from 0.52691\n",
            "16/16 [==============================] - 2s 108ms/step - loss: 0.5655 - accuracy: 0.7897 - val_loss: 0.3241 - val_accuracy: 0.8934\n",
            "Epoch 3/150\n",
            "16/16 [==============================] - ETA: 0s - loss: 0.5007 - accuracy: 0.8206\n",
            "Epoch 3: loss improved from 0.52691 to 0.50074, saving model to /kaggle/working/weights_best_1.hdf5\n",
            "16/16 [==============================] - 2s 101ms/step - loss: 0.5007 - accuracy: 0.8206 - val_loss: 0.4964 - val_accuracy: 0.8279\n",
            "Epoch 4/150\n",
            "16/16 [==============================] - ETA: 0s - loss: 0.5119 - accuracy: 0.8330\n",
            "Epoch 4: loss did not improve from 0.50074\n",
            "16/16 [==============================] - 2s 109ms/step - loss: 0.5119 - accuracy: 0.8330 - val_loss: 0.3820 - val_accuracy: 0.8689\n",
            "Epoch 5/150\n",
            "16/16 [==============================] - ETA: 0s - loss: 0.5531 - accuracy: 0.7959\n",
            "Epoch 5: loss did not improve from 0.50074\n",
            "16/16 [==============================] - 2s 102ms/step - loss: 0.5531 - accuracy: 0.7959 - val_loss: 0.4497 - val_accuracy: 0.7951\n",
            "Epoch 6/150\n",
            "16/16 [==============================] - ETA: 0s - loss: 0.5016 - accuracy: 0.8144\n",
            "Epoch 6: loss did not improve from 0.50074\n",
            "16/16 [==============================] - 3s 162ms/step - loss: 0.5016 - accuracy: 0.8144 - val_loss: 0.3307 - val_accuracy: 0.9098\n",
            "Epoch 7/150\n",
            "16/16 [==============================] - ETA: 0s - loss: 0.4642 - accuracy: 0.8289\n",
            "Epoch 7: loss improved from 0.50074 to 0.46419, saving model to /kaggle/working/weights_best_1.hdf5\n",
            "16/16 [==============================] - 2s 102ms/step - loss: 0.4642 - accuracy: 0.8289 - val_loss: 0.3507 - val_accuracy: 0.8852\n",
            "Epoch 8/150\n",
            "16/16 [==============================] - ETA: 0s - loss: 0.4550 - accuracy: 0.8454\n",
            "Epoch 8: loss improved from 0.46419 to 0.45495, saving model to /kaggle/working/weights_best_1.hdf5\n",
            "16/16 [==============================] - 2s 108ms/step - loss: 0.4550 - accuracy: 0.8454 - val_loss: 0.4482 - val_accuracy: 0.8361\n",
            "Epoch 9/150\n",
            "16/16 [==============================] - ETA: 0s - loss: 0.4844 - accuracy: 0.8227\n",
            "Epoch 9: loss did not improve from 0.45495\n",
            "16/16 [==============================] - 2s 102ms/step - loss: 0.4844 - accuracy: 0.8227 - val_loss: 0.5244 - val_accuracy: 0.8115\n",
            "Epoch 10/150\n",
            "16/16 [==============================] - ETA: 0s - loss: 0.5903 - accuracy: 0.8021\n",
            "Epoch 10: loss did not improve from 0.45495\n",
            "16/16 [==============================] - 2s 97ms/step - loss: 0.5903 - accuracy: 0.8021 - val_loss: 0.3992 - val_accuracy: 0.8443\n",
            "Epoch 11/150\n",
            "16/16 [==============================] - ETA: 0s - loss: 0.4944 - accuracy: 0.7938\n",
            "Epoch 11: loss did not improve from 0.45495\n",
            "16/16 [==============================] - 2s 100ms/step - loss: 0.4944 - accuracy: 0.7938 - val_loss: 0.4668 - val_accuracy: 0.7951\n",
            "Epoch 12/150\n",
            "16/16 [==============================] - ETA: 0s - loss: 0.5647 - accuracy: 0.7897\n",
            "Epoch 12: loss did not improve from 0.45495\n",
            "16/16 [==============================] - 2s 154ms/step - loss: 0.5647 - accuracy: 0.7897 - val_loss: 0.4650 - val_accuracy: 0.8689\n",
            "Epoch 13/150\n",
            "16/16 [==============================] - ETA: 0s - loss: 0.4832 - accuracy: 0.8412\n",
            "Epoch 13: loss did not improve from 0.45495\n",
            "16/16 [==============================] - 3s 172ms/step - loss: 0.4832 - accuracy: 0.8412 - val_loss: 0.3482 - val_accuracy: 0.8689\n",
            "Epoch 14/150\n",
            "16/16 [==============================] - ETA: 0s - loss: 0.4783 - accuracy: 0.8206\n",
            "Epoch 14: loss did not improve from 0.45495\n",
            "16/16 [==============================] - 2s 133ms/step - loss: 0.4783 - accuracy: 0.8206 - val_loss: 0.3710 - val_accuracy: 0.8689\n",
            "Epoch 15/150\n",
            "16/16 [==============================] - ETA: 0s - loss: 0.5248 - accuracy: 0.7979\n",
            "Epoch 15: loss did not improve from 0.45495\n",
            "16/16 [==============================] - 3s 168ms/step - loss: 0.5248 - accuracy: 0.7979 - val_loss: 0.4060 - val_accuracy: 0.8443\n",
            "Epoch 16/150\n",
            "15/16 [===========================>..] - ETA: 0s - loss: 0.4873 - accuracy: 0.8125\n",
            "Epoch 16: loss did not improve from 0.45495\n",
            "16/16 [==============================] - 2s 99ms/step - loss: 0.4909 - accuracy: 0.8124 - val_loss: 0.4274 - val_accuracy: 0.8361\n",
            "4/4 [==============================] - 0s 19ms/step\n",
            "Epoch 1/150\n",
            "16/16 [==============================] - ETA: 0s - loss: 0.5221 - accuracy: 0.8128\n",
            "Epoch 1: loss improved from inf to 0.52214, saving model to /kaggle/working/weights_best_2.hdf5\n",
            "16/16 [==============================] - 2s 147ms/step - loss: 0.5221 - accuracy: 0.8128 - val_loss: 0.7913 - val_accuracy: 0.6612\n",
            "Epoch 2/150\n",
            "16/16 [==============================] - ETA: 0s - loss: 0.4965 - accuracy: 0.8313\n",
            "Epoch 2: loss improved from 0.52214 to 0.49653, saving model to /kaggle/working/weights_best_2.hdf5\n",
            "16/16 [==============================] - 3s 172ms/step - loss: 0.4965 - accuracy: 0.8313 - val_loss: 0.3465 - val_accuracy: 0.9008\n",
            "Epoch 3/150\n",
            "16/16 [==============================] - ETA: 0s - loss: 0.4588 - accuracy: 0.8395\n",
            "Epoch 3: loss improved from 0.49653 to 0.45883, saving model to /kaggle/working/weights_best_2.hdf5\n",
            "16/16 [==============================] - 2s 100ms/step - loss: 0.4588 - accuracy: 0.8395 - val_loss: 0.6628 - val_accuracy: 0.7273\n",
            "Epoch 4/150\n",
            "16/16 [==============================] - ETA: 0s - loss: 0.4900 - accuracy: 0.8230\n",
            "Epoch 4: loss did not improve from 0.45883\n",
            "16/16 [==============================] - 2s 107ms/step - loss: 0.4900 - accuracy: 0.8230 - val_loss: 0.4012 - val_accuracy: 0.8678\n",
            "Epoch 5/150\n",
            "16/16 [==============================] - ETA: 0s - loss: 0.4909 - accuracy: 0.8416\n",
            "Epoch 5: loss did not improve from 0.45883\n",
            "16/16 [==============================] - 2s 104ms/step - loss: 0.4909 - accuracy: 0.8416 - val_loss: 0.3647 - val_accuracy: 0.8926\n",
            "Epoch 6/150\n",
            "16/16 [==============================] - ETA: 0s - loss: 0.4704 - accuracy: 0.8169\n",
            "Epoch 6: loss did not improve from 0.45883\n",
            "16/16 [==============================] - 2s 99ms/step - loss: 0.4704 - accuracy: 0.8169 - val_loss: 0.5555 - val_accuracy: 0.7686\n",
            "Epoch 7/150\n",
            "16/16 [==============================] - ETA: 0s - loss: 0.5019 - accuracy: 0.8333\n",
            "Epoch 7: loss did not improve from 0.45883\n",
            "16/16 [==============================] - 2s 115ms/step - loss: 0.5019 - accuracy: 0.8333 - val_loss: 0.4049 - val_accuracy: 0.8760\n",
            "Epoch 8/150\n",
            "16/16 [==============================] - ETA: 0s - loss: 0.4936 - accuracy: 0.8210\n",
            "Epoch 8: loss did not improve from 0.45883\n",
            "16/16 [==============================] - 3s 160ms/step - loss: 0.4936 - accuracy: 0.8210 - val_loss: 0.4907 - val_accuracy: 0.8017\n",
            "Epoch 9/150\n",
            "16/16 [==============================] - ETA: 0s - loss: 0.5093 - accuracy: 0.8416\n",
            "Epoch 9: loss did not improve from 0.45883\n",
            "16/16 [==============================] - 2s 99ms/step - loss: 0.5093 - accuracy: 0.8416 - val_loss: 0.3771 - val_accuracy: 0.8678\n",
            "Epoch 10/150\n",
            "16/16 [==============================] - ETA: 0s - loss: 0.4391 - accuracy: 0.8436\n",
            "Epoch 10: loss improved from 0.45883 to 0.43913, saving model to /kaggle/working/weights_best_2.hdf5\n",
            "16/16 [==============================] - 2s 101ms/step - loss: 0.4391 - accuracy: 0.8436 - val_loss: 0.5680 - val_accuracy: 0.7686\n",
            "Epoch 11/150\n",
            "16/16 [==============================] - ETA: 0s - loss: 0.4277 - accuracy: 0.8477\n",
            "Epoch 11: loss improved from 0.43913 to 0.42773, saving model to /kaggle/working/weights_best_2.hdf5\n",
            "16/16 [==============================] - 2s 103ms/step - loss: 0.4277 - accuracy: 0.8477 - val_loss: 0.6158 - val_accuracy: 0.7190\n",
            "Epoch 12/150\n",
            "16/16 [==============================] - ETA: 0s - loss: 0.4887 - accuracy: 0.8189\n",
            "Epoch 12: loss did not improve from 0.42773\n",
            "16/16 [==============================] - 2s 98ms/step - loss: 0.4887 - accuracy: 0.8189 - val_loss: 0.8897 - val_accuracy: 0.7107\n",
            "Epoch 13/150\n",
            "16/16 [==============================] - ETA: 0s - loss: 0.4155 - accuracy: 0.8519\n",
            "Epoch 13: loss improved from 0.42773 to 0.41549, saving model to /kaggle/working/weights_best_2.hdf5\n",
            "16/16 [==============================] - 2s 130ms/step - loss: 0.4155 - accuracy: 0.8519 - val_loss: 0.5332 - val_accuracy: 0.7851\n",
            "Epoch 14/150\n",
            "16/16 [==============================] - ETA: 0s - loss: 0.4162 - accuracy: 0.8457\n",
            "Epoch 14: loss did not improve from 0.41549\n",
            "16/16 [==============================] - 3s 161ms/step - loss: 0.4162 - accuracy: 0.8457 - val_loss: 0.4372 - val_accuracy: 0.8182\n",
            "Epoch 15/150\n",
            "16/16 [==============================] - ETA: 0s - loss: 0.3911 - accuracy: 0.8642\n",
            "Epoch 15: loss improved from 0.41549 to 0.39109, saving model to /kaggle/working/weights_best_2.hdf5\n",
            "16/16 [==============================] - 2s 100ms/step - loss: 0.3911 - accuracy: 0.8642 - val_loss: 0.4304 - val_accuracy: 0.8264\n",
            "Epoch 16/150\n",
            "16/16 [==============================] - ETA: 0s - loss: 0.4396 - accuracy: 0.8436\n",
            "Epoch 16: loss did not improve from 0.39109\n",
            "16/16 [==============================] - 2s 96ms/step - loss: 0.4396 - accuracy: 0.8436 - val_loss: 0.7993 - val_accuracy: 0.7107\n",
            "Epoch 17/150\n",
            "16/16 [==============================] - ETA: 0s - loss: 0.4359 - accuracy: 0.8580\n",
            "Epoch 17: loss did not improve from 0.39109\n",
            "16/16 [==============================] - 2s 99ms/step - loss: 0.4359 - accuracy: 0.8580 - val_loss: 0.3997 - val_accuracy: 0.8678\n",
            "Epoch 18/150\n",
            "16/16 [==============================] - ETA: 0s - loss: 0.4244 - accuracy: 0.8519\n",
            "Epoch 18: loss did not improve from 0.39109\n",
            "16/16 [==============================] - 2s 134ms/step - loss: 0.4244 - accuracy: 0.8519 - val_loss: 0.3750 - val_accuracy: 0.8760\n",
            "Epoch 19/150\n",
            "16/16 [==============================] - ETA: 0s - loss: 0.3868 - accuracy: 0.8560\n",
            "Epoch 19: loss improved from 0.39109 to 0.38684, saving model to /kaggle/working/weights_best_2.hdf5\n",
            "16/16 [==============================] - 3s 194ms/step - loss: 0.3868 - accuracy: 0.8560 - val_loss: 0.4045 - val_accuracy: 0.8843\n",
            "Epoch 20/150\n",
            "16/16 [==============================] - ETA: 0s - loss: 0.4030 - accuracy: 0.8601\n",
            "Epoch 20: loss did not improve from 0.38684\n",
            "16/16 [==============================] - 3s 161ms/step - loss: 0.4030 - accuracy: 0.8601 - val_loss: 0.5393 - val_accuracy: 0.7934\n",
            "Epoch 21/150\n",
            "16/16 [==============================] - ETA: 0s - loss: 0.4612 - accuracy: 0.8210\n",
            "Epoch 21: loss did not improve from 0.38684\n",
            "16/16 [==============================] - 2s 99ms/step - loss: 0.4612 - accuracy: 0.8210 - val_loss: 0.4002 - val_accuracy: 0.8760\n",
            "Epoch 22/150\n",
            "16/16 [==============================] - ETA: 0s - loss: 0.5124 - accuracy: 0.8148\n",
            "Epoch 22: loss did not improve from 0.38684\n",
            "16/16 [==============================] - 2s 97ms/step - loss: 0.5124 - accuracy: 0.8148 - val_loss: 0.5326 - val_accuracy: 0.8430\n",
            "Epoch 23/150\n",
            "16/16 [==============================] - ETA: 0s - loss: 0.4219 - accuracy: 0.8580\n",
            "Epoch 23: loss did not improve from 0.38684\n",
            "16/16 [==============================] - 2s 99ms/step - loss: 0.4219 - accuracy: 0.8580 - val_loss: 0.4108 - val_accuracy: 0.8595\n",
            "Epoch 24/150\n",
            "16/16 [==============================] - ETA: 0s - loss: 0.4024 - accuracy: 0.8560\n",
            "Epoch 24: loss did not improve from 0.38684\n",
            "16/16 [==============================] - 2s 98ms/step - loss: 0.4024 - accuracy: 0.8560 - val_loss: 0.4697 - val_accuracy: 0.8678\n",
            "Epoch 25/150\n",
            "16/16 [==============================] - ETA: 0s - loss: 0.3740 - accuracy: 0.8374\n",
            "Epoch 25: loss improved from 0.38684 to 0.37400, saving model to /kaggle/working/weights_best_2.hdf5\n",
            "16/16 [==============================] - 2s 102ms/step - loss: 0.3740 - accuracy: 0.8374 - val_loss: 0.6322 - val_accuracy: 0.7851\n",
            "Epoch 26/150\n",
            "16/16 [==============================] - ETA: 0s - loss: 0.3855 - accuracy: 0.8498\n",
            "Epoch 26: loss did not improve from 0.37400\n",
            "16/16 [==============================] - 2s 137ms/step - loss: 0.3855 - accuracy: 0.8498 - val_loss: 0.4863 - val_accuracy: 0.8264\n",
            "Epoch 27/150\n",
            "16/16 [==============================] - ETA: 0s - loss: 0.4177 - accuracy: 0.8436\n",
            "Epoch 27: loss did not improve from 0.37400\n",
            "16/16 [==============================] - 3s 173ms/step - loss: 0.4177 - accuracy: 0.8436 - val_loss: 1.1470 - val_accuracy: 0.6529\n",
            "Epoch 28/150\n",
            "16/16 [==============================] - ETA: 0s - loss: 0.5293 - accuracy: 0.8128\n",
            "Epoch 28: loss did not improve from 0.37400\n",
            "16/16 [==============================] - 2s 101ms/step - loss: 0.5293 - accuracy: 0.8128 - val_loss: 0.6851 - val_accuracy: 0.7851\n",
            "Epoch 29/150\n",
            "16/16 [==============================] - ETA: 0s - loss: 0.5281 - accuracy: 0.8169\n",
            "Epoch 29: loss did not improve from 0.37400\n",
            "16/16 [==============================] - 2s 105ms/step - loss: 0.5281 - accuracy: 0.8169 - val_loss: 0.4806 - val_accuracy: 0.8182\n",
            "Epoch 30/150\n",
            "16/16 [==============================] - ETA: 0s - loss: 0.3974 - accuracy: 0.8642\n",
            "Epoch 30: loss did not improve from 0.37400\n",
            "16/16 [==============================] - 2s 100ms/step - loss: 0.3974 - accuracy: 0.8642 - val_loss: 0.4075 - val_accuracy: 0.8760\n",
            "Epoch 31/150\n",
            "16/16 [==============================] - ETA: 0s - loss: 0.4141 - accuracy: 0.8560\n",
            "Epoch 31: loss did not improve from 0.37400\n",
            "16/16 [==============================] - 2s 98ms/step - loss: 0.4141 - accuracy: 0.8560 - val_loss: 0.4794 - val_accuracy: 0.8678\n",
            "Epoch 32/150\n",
            "16/16 [==============================] - ETA: 0s - loss: 0.4253 - accuracy: 0.8601\n",
            "Epoch 32: loss did not improve from 0.37400\n",
            "16/16 [==============================] - 2s 145ms/step - loss: 0.4253 - accuracy: 0.8601 - val_loss: 0.4434 - val_accuracy: 0.8678\n",
            "Epoch 33/150\n",
            "16/16 [==============================] - ETA: 0s - loss: 0.4000 - accuracy: 0.8498\n",
            "Epoch 33: loss did not improve from 0.37400\n",
            "16/16 [==============================] - 3s 168ms/step - loss: 0.4000 - accuracy: 0.8498 - val_loss: 0.5493 - val_accuracy: 0.7934\n",
            "4/4 [==============================] - 0s 18ms/step\n",
            "Epoch 1/150\n",
            "16/16 [==============================] - ETA: 0s - loss: 0.4719 - accuracy: 0.8354\n",
            "Epoch 1: loss improved from inf to 0.47188, saving model to /kaggle/working/weights_best_3.hdf5\n",
            "16/16 [==============================] - 2s 105ms/step - loss: 0.4719 - accuracy: 0.8354 - val_loss: 0.4364 - val_accuracy: 0.8512\n",
            "Epoch 2/150\n",
            "16/16 [==============================] - ETA: 0s - loss: 0.4140 - accuracy: 0.8519\n",
            "Epoch 2: loss improved from 0.47188 to 0.41400, saving model to /kaggle/working/weights_best_3.hdf5\n",
            "16/16 [==============================] - 2s 101ms/step - loss: 0.4140 - accuracy: 0.8519 - val_loss: 0.3481 - val_accuracy: 0.9008\n",
            "Epoch 3/150\n",
            "16/16 [==============================] - ETA: 0s - loss: 0.3896 - accuracy: 0.8724\n",
            "Epoch 3: loss improved from 0.41400 to 0.38955, saving model to /kaggle/working/weights_best_3.hdf5\n",
            "16/16 [==============================] - 2s 101ms/step - loss: 0.3896 - accuracy: 0.8724 - val_loss: 0.4989 - val_accuracy: 0.8099\n",
            "Epoch 4/150\n",
            "16/16 [==============================] - ETA: 0s - loss: 0.4575 - accuracy: 0.8333\n",
            "Epoch 4: loss did not improve from 0.38955\n",
            "16/16 [==============================] - 2s 100ms/step - loss: 0.4575 - accuracy: 0.8333 - val_loss: 0.3955 - val_accuracy: 0.8182\n",
            "Epoch 5/150\n",
            "16/16 [==============================] - ETA: 0s - loss: 0.3507 - accuracy: 0.8909\n",
            "Epoch 5: loss improved from 0.38955 to 0.35075, saving model to /kaggle/working/weights_best_3.hdf5\n",
            "16/16 [==============================] - 2s 138ms/step - loss: 0.3507 - accuracy: 0.8909 - val_loss: 0.4523 - val_accuracy: 0.8099\n",
            "Epoch 6/150\n",
            "16/16 [==============================] - ETA: 0s - loss: 0.3756 - accuracy: 0.8765\n",
            "Epoch 6: loss did not improve from 0.35075\n",
            "16/16 [==============================] - 3s 176ms/step - loss: 0.3756 - accuracy: 0.8765 - val_loss: 0.4872 - val_accuracy: 0.8182\n",
            "Epoch 7/150\n",
            "16/16 [==============================] - ETA: 0s - loss: 0.3829 - accuracy: 0.8724\n",
            "Epoch 7: loss did not improve from 0.35075\n",
            "16/16 [==============================] - 2s 98ms/step - loss: 0.3829 - accuracy: 0.8724 - val_loss: 0.4364 - val_accuracy: 0.8347\n",
            "Epoch 8/150\n",
            "16/16 [==============================] - ETA: 0s - loss: 0.3625 - accuracy: 0.8827\n",
            "Epoch 8: loss did not improve from 0.35075\n",
            "16/16 [==============================] - 2s 99ms/step - loss: 0.3625 - accuracy: 0.8827 - val_loss: 0.4028 - val_accuracy: 0.8347\n",
            "Epoch 9/150\n",
            "16/16 [==============================] - ETA: 0s - loss: 0.4093 - accuracy: 0.8519\n",
            "Epoch 9: loss did not improve from 0.35075\n",
            "16/16 [==============================] - 2s 99ms/step - loss: 0.4093 - accuracy: 0.8519 - val_loss: 0.3841 - val_accuracy: 0.8430\n",
            "Epoch 10/150\n",
            "16/16 [==============================] - ETA: 0s - loss: 0.4009 - accuracy: 0.8436\n",
            "Epoch 10: loss did not improve from 0.35075\n",
            "16/16 [==============================] - 2s 99ms/step - loss: 0.4009 - accuracy: 0.8436 - val_loss: 0.3624 - val_accuracy: 0.8678\n",
            "Epoch 11/150\n",
            "16/16 [==============================] - ETA: 0s - loss: 0.3845 - accuracy: 0.8539\n",
            "Epoch 11: loss did not improve from 0.35075\n",
            "16/16 [==============================] - 2s 99ms/step - loss: 0.3845 - accuracy: 0.8539 - val_loss: 0.4193 - val_accuracy: 0.8595\n",
            "Epoch 12/150\n",
            "16/16 [==============================] - ETA: 0s - loss: 0.3982 - accuracy: 0.8601\n",
            "Epoch 12: loss did not improve from 0.35075\n",
            "16/16 [==============================] - 2s 101ms/step - loss: 0.3982 - accuracy: 0.8601 - val_loss: 0.3821 - val_accuracy: 0.8595\n",
            "Epoch 13/150\n",
            "16/16 [==============================] - ETA: 0s - loss: 0.3835 - accuracy: 0.8642\n",
            "Epoch 13: loss did not improve from 0.35075\n",
            "16/16 [==============================] - 2s 152ms/step - loss: 0.3835 - accuracy: 0.8642 - val_loss: 0.4632 - val_accuracy: 0.8182\n",
            "4/4 [==============================] - 0s 31ms/step\n",
            "Epoch 1/150\n",
            "16/16 [==============================] - ETA: 0s - loss: 0.4483 - accuracy: 0.8416\n",
            "Epoch 1: loss improved from inf to 0.44831, saving model to /kaggle/working/weights_best_4.hdf5\n",
            "16/16 [==============================] - 3s 157ms/step - loss: 0.4483 - accuracy: 0.8416 - val_loss: 0.3052 - val_accuracy: 0.8926\n",
            "Epoch 2/150\n",
            "16/16 [==============================] - ETA: 0s - loss: 0.4308 - accuracy: 0.8374\n",
            "Epoch 2: loss improved from 0.44831 to 0.43081, saving model to /kaggle/working/weights_best_4.hdf5\n",
            "16/16 [==============================] - 2s 105ms/step - loss: 0.4308 - accuracy: 0.8374 - val_loss: 0.2903 - val_accuracy: 0.9091\n",
            "Epoch 3/150\n",
            "16/16 [==============================] - ETA: 0s - loss: 0.4004 - accuracy: 0.8621\n",
            "Epoch 3: loss improved from 0.43081 to 0.40036, saving model to /kaggle/working/weights_best_4.hdf5\n",
            "16/16 [==============================] - 2s 103ms/step - loss: 0.4004 - accuracy: 0.8621 - val_loss: 0.4283 - val_accuracy: 0.8182\n",
            "Epoch 4/150\n",
            "16/16 [==============================] - ETA: 0s - loss: 0.3738 - accuracy: 0.8827\n",
            "Epoch 4: loss improved from 0.40036 to 0.37375, saving model to /kaggle/working/weights_best_4.hdf5\n",
            "16/16 [==============================] - 2s 101ms/step - loss: 0.3738 - accuracy: 0.8827 - val_loss: 0.4018 - val_accuracy: 0.8512\n",
            "Epoch 5/150\n",
            "16/16 [==============================] - ETA: 0s - loss: 0.3792 - accuracy: 0.8560\n",
            "Epoch 5: loss did not improve from 0.37375\n",
            "16/16 [==============================] - 2s 99ms/step - loss: 0.3792 - accuracy: 0.8560 - val_loss: 0.3692 - val_accuracy: 0.8430\n",
            "Epoch 6/150\n",
            "16/16 [==============================] - ETA: 0s - loss: 0.3454 - accuracy: 0.8848\n",
            "Epoch 6: loss improved from 0.37375 to 0.34540, saving model to /kaggle/working/weights_best_4.hdf5\n",
            "16/16 [==============================] - 2s 116ms/step - loss: 0.3454 - accuracy: 0.8848 - val_loss: 0.4645 - val_accuracy: 0.8264\n",
            "Epoch 7/150\n",
            "16/16 [==============================] - ETA: 0s - loss: 0.3733 - accuracy: 0.8765\n",
            "Epoch 7: loss did not improve from 0.34540\n",
            "16/16 [==============================] - 3s 158ms/step - loss: 0.3733 - accuracy: 0.8765 - val_loss: 0.3826 - val_accuracy: 0.8760\n",
            "Epoch 8/150\n",
            "16/16 [==============================] - ETA: 0s - loss: 0.3399 - accuracy: 0.8807\n",
            "Epoch 8: loss improved from 0.34540 to 0.33988, saving model to /kaggle/working/weights_best_4.hdf5\n",
            "16/16 [==============================] - 2s 139ms/step - loss: 0.3399 - accuracy: 0.8807 - val_loss: 0.3593 - val_accuracy: 0.8430\n",
            "Epoch 9/150\n",
            "16/16 [==============================] - ETA: 0s - loss: 0.3138 - accuracy: 0.8868\n",
            "Epoch 9: loss improved from 0.33988 to 0.31380, saving model to /kaggle/working/weights_best_4.hdf5\n",
            "16/16 [==============================] - 2s 100ms/step - loss: 0.3138 - accuracy: 0.8868 - val_loss: 0.4862 - val_accuracy: 0.8264\n",
            "Epoch 10/150\n",
            "16/16 [==============================] - ETA: 0s - loss: 0.4009 - accuracy: 0.8580\n",
            "Epoch 10: loss did not improve from 0.31380\n",
            "16/16 [==============================] - 2s 98ms/step - loss: 0.4009 - accuracy: 0.8580 - val_loss: 0.6313 - val_accuracy: 0.7438\n",
            "Epoch 11/150\n",
            "15/16 [===========================>..] - ETA: 0s - loss: 0.4539 - accuracy: 0.8354\n",
            "Epoch 11: loss did not improve from 0.31380\n",
            "16/16 [==============================] - 2s 98ms/step - loss: 0.4514 - accuracy: 0.8354 - val_loss: 0.4769 - val_accuracy: 0.8264\n",
            "Epoch 12/150\n",
            "16/16 [==============================] - ETA: 0s - loss: 0.4244 - accuracy: 0.8374\n",
            "Epoch 12: loss did not improve from 0.31380\n",
            "16/16 [==============================] - 2s 99ms/step - loss: 0.4244 - accuracy: 0.8374 - val_loss: 0.3846 - val_accuracy: 0.8595\n",
            "Epoch 13/150\n",
            "16/16 [==============================] - ETA: 0s - loss: 0.3475 - accuracy: 0.8848\n",
            "Epoch 13: loss did not improve from 0.31380\n",
            "16/16 [==============================] - 2s 101ms/step - loss: 0.3475 - accuracy: 0.8848 - val_loss: 0.5073 - val_accuracy: 0.8264\n",
            "Epoch 14/150\n",
            "16/16 [==============================] - ETA: 0s - loss: 0.3226 - accuracy: 0.8848\n",
            "Epoch 14: loss did not improve from 0.31380\n",
            "16/16 [==============================] - 2s 152ms/step - loss: 0.3226 - accuracy: 0.8848 - val_loss: 0.5028 - val_accuracy: 0.8264\n",
            "Epoch 15/150\n",
            "16/16 [==============================] - ETA: 0s - loss: 0.3210 - accuracy: 0.8765\n",
            "Epoch 15: loss did not improve from 0.31380\n",
            "16/16 [==============================] - 3s 157ms/step - loss: 0.3210 - accuracy: 0.8765 - val_loss: 0.4083 - val_accuracy: 0.8430\n",
            "Epoch 16/150\n",
            "15/16 [===========================>..] - ETA: 0s - loss: 0.3109 - accuracy: 0.8958\n",
            "Epoch 16: loss improved from 0.31380 to 0.30725, saving model to /kaggle/working/weights_best_4.hdf5\n",
            "16/16 [==============================] - 2s 103ms/step - loss: 0.3073 - accuracy: 0.8971 - val_loss: 0.4070 - val_accuracy: 0.8678\n",
            "Epoch 17/150\n",
            "16/16 [==============================] - ETA: 0s - loss: 0.2839 - accuracy: 0.8971\n",
            "Epoch 17: loss improved from 0.30725 to 0.28386, saving model to /kaggle/working/weights_best_4.hdf5\n",
            "16/16 [==============================] - 2s 108ms/step - loss: 0.2839 - accuracy: 0.8971 - val_loss: 0.3737 - val_accuracy: 0.8926\n",
            "Epoch 18/150\n",
            "16/16 [==============================] - ETA: 0s - loss: 0.3598 - accuracy: 0.8621\n",
            "Epoch 18: loss did not improve from 0.28386\n",
            "16/16 [==============================] - 2s 101ms/step - loss: 0.3598 - accuracy: 0.8621 - val_loss: 0.5381 - val_accuracy: 0.8347\n",
            "Epoch 19/150\n",
            "16/16 [==============================] - ETA: 0s - loss: 0.3323 - accuracy: 0.8765\n",
            "Epoch 19: loss did not improve from 0.28386\n",
            "16/16 [==============================] - 2s 102ms/step - loss: 0.3323 - accuracy: 0.8765 - val_loss: 0.4710 - val_accuracy: 0.8512\n",
            "Epoch 20/150\n",
            "16/16 [==============================] - ETA: 0s - loss: 0.4001 - accuracy: 0.8621\n",
            "Epoch 20: loss did not improve from 0.28386\n",
            "16/16 [==============================] - 2s 136ms/step - loss: 0.4001 - accuracy: 0.8621 - val_loss: 0.5322 - val_accuracy: 0.8512\n",
            "Epoch 21/150\n",
            "16/16 [==============================] - ETA: 0s - loss: 0.4153 - accuracy: 0.8457\n",
            "Epoch 21: loss did not improve from 0.28386\n",
            "16/16 [==============================] - 3s 168ms/step - loss: 0.4153 - accuracy: 0.8457 - val_loss: 0.7584 - val_accuracy: 0.7438\n",
            "Epoch 22/150\n",
            "16/16 [==============================] - ETA: 0s - loss: 0.3827 - accuracy: 0.8580\n",
            "Epoch 22: loss did not improve from 0.28386\n",
            "16/16 [==============================] - 2s 102ms/step - loss: 0.3827 - accuracy: 0.8580 - val_loss: 0.4557 - val_accuracy: 0.8430\n",
            "Epoch 23/150\n",
            "16/16 [==============================] - ETA: 0s - loss: 0.3625 - accuracy: 0.8724\n",
            "Epoch 23: loss did not improve from 0.28386\n",
            "16/16 [==============================] - 2s 100ms/step - loss: 0.3625 - accuracy: 0.8724 - val_loss: 0.5893 - val_accuracy: 0.7851\n",
            "Epoch 24/150\n",
            "16/16 [==============================] - ETA: 0s - loss: 0.3561 - accuracy: 0.8683\n",
            "Epoch 24: loss did not improve from 0.28386\n",
            "16/16 [==============================] - 2s 100ms/step - loss: 0.3561 - accuracy: 0.8683 - val_loss: 0.4686 - val_accuracy: 0.8512\n",
            "Epoch 25/150\n",
            "16/16 [==============================] - ETA: 0s - loss: 0.3594 - accuracy: 0.8868\n",
            "Epoch 25: loss did not improve from 0.28386\n",
            "16/16 [==============================] - 2s 101ms/step - loss: 0.3594 - accuracy: 0.8868 - val_loss: 0.4778 - val_accuracy: 0.8347\n",
            "4/4 [==============================] - 0s 19ms/step\n"
          ]
        }
      ]
    },
    {
      "cell_type": "code",
      "source": [
        "print(scores_acc,scores_loss)"
      ],
      "metadata": {
        "id": "JVn9B-hNQykU",
        "colab": {
          "base_uri": "https://localhost:8080/"
        },
        "outputId": "a946bdc9-7f9b-47f9-c11b-fe13f9fbcd99"
      },
      "execution_count": null,
      "outputs": [
        {
          "output_type": "stream",
          "name": "stdout",
          "text": [
            "[0.7295082211494446, 0.8360655903816223, 0.7851239442825317, 0.8099173307418823, 0.8925619721412659] [0.7157164812088013, 0.44815871119499207, 0.6321722865104675, 0.45233476161956787, 0.37374231219291687]\n"
          ]
        }
      ]
    },
    {
      "cell_type": "markdown",
      "source": [
        "# Taking Model with Lowest Loost"
      ],
      "metadata": {
        "id": "3RYgs6BbQnTk"
      }
    },
    {
      "cell_type": "code",
      "source": [
        "value_min = min(scores_loss)\n",
        "value_index = scores_loss.index(value_min)\n",
        "print(value_index)"
      ],
      "metadata": {
        "id": "IzNNxe9kQl2Q",
        "colab": {
          "base_uri": "https://localhost:8080/"
        },
        "outputId": "d8dc561e-b88a-4559-b39f-565181ebe39a"
      },
      "execution_count": null,
      "outputs": [
        {
          "output_type": "stream",
          "name": "stdout",
          "text": [
            "4\n"
          ]
        }
      ]
    },
    {
      "cell_type": "code",
      "source": [
        "model.load_weights(\"/kaggle/working/weights_best_\"+str(value_index)+\".hdf5\")"
      ],
      "metadata": {
        "id": "X9d1AChSQ2XC"
      },
      "execution_count": null,
      "outputs": []
    },
    {
      "cell_type": "code",
      "source": [
        "best_model = model"
      ],
      "metadata": {
        "id": "NV63P-XUQ33p"
      },
      "execution_count": null,
      "outputs": []
    },
    {
      "cell_type": "markdown",
      "source": [
        "# Model Evaluation"
      ],
      "metadata": {
        "id": "2EucqiF-2ymZ"
      }
    },
    {
      "cell_type": "code",
      "source": [
        "score = best_model.evaluate(X_test, y_test, verbose=0)\n",
        "print('Test Loss:', score[0])\n",
        "print('Test accuracy:', score[1])\n",
        "\n",
        "test_image = X_test[0:1]\n",
        "print (test_image.shape)"
      ],
      "metadata": {
        "id": "2hw-LSYObHRZ",
        "colab": {
          "base_uri": "https://localhost:8080/"
        },
        "outputId": "7b9e6385-10d0-4068-ed87-b846f7849005"
      },
      "execution_count": null,
      "outputs": [
        {
          "output_type": "stream",
          "name": "stdout",
          "text": [
            "Test Loss: 0.25946617126464844\n",
            "Test accuracy: 0.9016393423080444\n",
            "(1, 48, 48, 3)\n"
          ]
        }
      ]
    },
    {
      "cell_type": "code",
      "source": [
        "\n",
        "#predict\n",
        "y_pred = best_model.predict(X_test)"
      ],
      "metadata": {
        "id": "LSiyLr0gbn7a",
        "colab": {
          "base_uri": "https://localhost:8080/"
        },
        "outputId": "b8b39eaf-6751-4c4e-e081-16bbc8275e9b"
      },
      "execution_count": null,
      "outputs": [
        {
          "output_type": "stream",
          "name": "stdout",
          "text": [
            "4/4 [==============================] - 0s 18ms/step\n"
          ]
        }
      ]
    },
    {
      "cell_type": "markdown",
      "source": [
        "# Visualizing Train,Test--->Accuracy,Loss"
      ],
      "metadata": {
        "id": "AGxPNvIbi24m"
      }
    },
    {
      "cell_type": "code",
      "source": [
        "# visualizing losses and accuracy\n",
        "%matplotlib inline\n",
        "\n",
        "train_loss=hist.history['loss']\n",
        "val_loss=hist.history['val_loss']\n",
        "train_acc=hist.history['accuracy']\n",
        "val_acc=hist.history['val_accuracy']\n",
        "\n",
        "epochs = range(len(train_acc))\n",
        "plt.figure(figsize=(5, 5))\n",
        "plt.plot(epochs,train_loss,'r', label='train_loss')\n",
        "plt.plot(epochs,val_loss,'b', label='val_loss')\n",
        "plt.title('train_loss vs val_loss')\n",
        "plt.legend()\n",
        "plt.figure(figsize=(5, 5))\n",
        "\n",
        "plt.plot(epochs,train_acc,'r', label='train_acc')\n",
        "plt.plot(epochs,val_acc,'b', label='val_acc')\n",
        "plt.title('train_acc vs val_acc')\n",
        "plt.legend()\n",
        "plt.figure()"
      ],
      "metadata": {
        "id": "8yM-YT7PxxV_",
        "colab": {
          "base_uri": "https://localhost:8080/",
          "height": 954
        },
        "outputId": "8a8033ba-7a4c-468c-a99e-291343124464"
      },
      "execution_count": null,
      "outputs": [
        {
          "output_type": "execute_result",
          "data": {
            "text/plain": [
              "<Figure size 1500x1000 with 0 Axes>"
            ]
          },
          "metadata": {},
          "execution_count": 62
        },
        {
          "output_type": "display_data",
          "data": {
            "text/plain": [
              "<Figure size 500x500 with 1 Axes>"
            ],
            "image/png": "[encoded data removed]"
          },
          "metadata": {}
        },
        {
          "output_type": "display_data",
          "data": {
            "text/plain": [
              "<Figure size 500x500 with 1 Axes>"
            ],
            "image/png": "[encoded data removed]"
          },
          "metadata": {}
        },
        {
          "output_type": "display_data",
          "data": {
            "text/plain": [
              "<Figure size 1500x1000 with 0 Axes>"
            ]
          },
          "metadata": {}
        }
      ]
    },
    {
      "cell_type": "code",
      "source": [
        "best_model = model\n"
      ],
      "metadata": {
        "id": "_CbVj6idyQw-"
      },
      "execution_count": null,
      "outputs": []
    },
    {
      "cell_type": "code",
      "source": [
        "best_model.save_weights('model_weights.h5')\n",
        "best_model.save('model_keras.h5')"
      ],
      "metadata": {
        "id": "sSpGbJ4ax-mS"
      },
      "execution_count": null,
      "outputs": []
    },
    {
      "cell_type": "markdown",
      "source": [
        "# Confusion"
      ],
      "metadata": {
        "id": "aA0NY4bS-8ds"
      }
    },
    {
      "cell_type": "code",
      "source": [
        "from sklearn.metrics import confusion_matrix\n",
        "import numpy as np\n",
        "\n",
        "# Use 'predict' and then find the class with highest probability\n",
        "predictions = best_model.predict(X_test)\n",
        "results = np.argmax(predictions, axis=1)\n",
        "\n",
        "cm = confusion_matrix(np.where(y_test == 1)[1], results)\n",
        "#cm = cm.astype(np.float) / cm.sum(axis=1)[:, np.newaxis] # Optional normalization"
      ],
      "metadata": {
        "id": "anO6EPR1Dci-",
        "colab": {
          "base_uri": "https://localhost:8080/"
        },
        "outputId": "9c2435a7-6c86-4ed6-ca41-81216a51690d"
      },
      "execution_count": null,
      "outputs": [
        {
          "output_type": "stream",
          "name": "stdout",
          "text": [
            "4/4 [==============================] - 0s 32ms/step\n"
          ]
        }
      ]
    },
    {
      "cell_type": "code",
      "source": [
        "import seaborn as sns\n",
        "import pandas as pd"
      ],
      "metadata": {
        "id": "s-xQeAbVA1or"
      },
      "execution_count": null,
      "outputs": []
    },
    {
      "cell_type": "code",
      "source": [
        "label_mapdisgust = ['Melanose','Black spot','Healthy','Greening','Canker']"
      ],
      "metadata": {
        "id": "hq0k7alIA9LN"
      },
      "execution_count": null,
      "outputs": []
    },
    {
      "cell_type": "code",
      "source": [
        "#Transform to df for easier plotting\n",
        "cm_df = pd.DataFrame(cm, index = label_mapdisgust,\n",
        "                     columns = label_mapdisgust\n",
        "                     )"
      ],
      "metadata": {
        "id": "-1xlnfNyA_fa"
      },
      "execution_count": null,
      "outputs": []
    },
    {
      "cell_type": "code",
      "source": [
        "final_cm = cm_df"
      ],
      "metadata": {
        "id": "1jaiQz7DBB2L"
      },
      "execution_count": null,
      "outputs": []
    },
    {
      "cell_type": "code",
      "source": [
        "final_cm"
      ],
      "metadata": {
        "id": "KWvAUT-MBDof",
        "colab": {
          "base_uri": "https://localhost:8080/",
          "height": 206
        },
        "outputId": "5ec89cb9-04de-4ab2-8287-127341c5b8e0"
      },
      "execution_count": null,
      "outputs": [
        {
          "output_type": "execute_result",
          "data": {
            "text/plain": [
              "            Melanose  Black spot  Healthy  Greening  Canker\n",
              "Melanose          25           1        0         0       0\n",
              "Black spot         2           5        2         0       0\n",
              "Healthy            3           0       36         1       0\n",
              "Greening           1           0        1        11       0\n",
              "Canker             0           0        0         1      33"
            ],
            "text/html": [
              "\n",
              "  <div id=\"df-95e4fc80-1c99-4ad9-aaa2-e8dbaacf6ee7\" class=\"colab-df-container\">\n",
              "    <div>\n",
              "<style scoped>\n",
              "    .dataframe tbody tr th:only-of-type {\n",
              "        vertical-align: middle;\n",
              "    }\n",
              "\n",
              "    .dataframe tbody tr th {\n",
              "        vertical-align: top;\n",
              "    }\n",
              "\n",
              "    .dataframe thead th {\n",
              "        text-align: right;\n",
              "    }\n",
              "</style>\n",
              "<table border=\"1\" class=\"dataframe\">\n",
              "  <thead>\n",
              "    <tr style=\"text-align: right;\">\n",
              "      <th></th>\n",
              "      <th>Melanose</th>\n",
              "      <th>Black spot</th>\n",
              "      <th>Healthy</th>\n",
              "      <th>Greening</th>\n",
              "      <th>Canker</th>\n",
              "    </tr>\n",
              "  </thead>\n",
              "  <tbody>\n",
              "    <tr>\n",
              "      <th>Melanose</th>\n",
              "      <td>25</td>\n",
              "      <td>1</td>\n",
              "      <td>0</td>\n",
              "      <td>0</td>\n",
              "      <td>0</td>\n",
              "    </tr>\n",
              "    <tr>\n",
              "      <th>Black spot</th>\n",
              "      <td>2</td>\n",
              "      <td>5</td>\n",
              "      <td>2</td>\n",
              "      <td>0</td>\n",
              "      <td>0</td>\n",
              "    </tr>\n",
              "    <tr>\n",
              "      <th>Healthy</th>\n",
              "      <td>3</td>\n",
              "      <td>0</td>\n",
              "      <td>36</td>\n",
              "      <td>1</td>\n",
              "      <td>0</td>\n",
              "    </tr>\n",
              "    <tr>\n",
              "      <th>Greening</th>\n",
              "      <td>1</td>\n",
              "      <td>0</td>\n",
              "      <td>1</td>\n",
              "      <td>11</td>\n",
              "      <td>0</td>\n",
              "    </tr>\n",
              "    <tr>\n",
              "      <th>Canker</th>\n",
              "      <td>0</td>\n",
              "      <td>0</td>\n",
              "      <td>0</td>\n",
              "      <td>1</td>\n",
              "      <td>33</td>\n",
              "    </tr>\n",
              "  </tbody>\n",
              "</table>\n",
              "</div>\n",
              "    <div class=\"colab-df-buttons\">\n",
              "\n",
              "  <div class=\"colab-df-container\">\n",
              "    <button class=\"colab-df-convert\" onclick=\"convertToInteractive('df-95e4fc80-1c99-4ad9-aaa2-e8dbaacf6ee7')\"\n",
              "            title=\"Convert this dataframe to an interactive table.\"\n",
              "            style=\"display:none;\">\n",
              "\n",
              "  <svg xmlns=\"http://www.w3.org/2000/svg\" height=\"24px\" viewBox=\"0 -960 960 960\">\n",
              "    <path d=\"M120-120v-720h720v720H120Zm60-500h600v-160H180v160Zm220 220h160v-160H400v160Zm0 220h160v-160H400v160ZM180-400h160v-160H180v160Zm440 0h160v-160H620v160ZM180-180h160v-160H180v160Zm440 0h160v-160H620v160Z\"/>\n",
              "  </svg>\n",
              "    </button>\n",
              "\n",
              "  <style>\n",
              "    .colab-df-container {\n",
              "      display:flex;\n",
              "      gap: 12px;\n",
              "    }\n",
              "\n",
              "    .colab-df-convert {\n",
              "      background-color: #E8F0FE;\n",
              "      border: none;\n",
              "      border-radius: 50%;\n",
              "      cursor: pointer;\n",
              "      display: none;\n",
              "      fill: #1967D2;\n",
              "      height: 32px;\n",
              "      padding: 0 0 0 0;\n",
              "      width: 32px;\n",
              "    }\n",
              "\n",
              "    .colab-df-convert:hover {\n",
              "      background-color: #E2EBFA;\n",
              "      box-shadow: 0px 1px 2px rgba(60, 64, 67, 0.3), 0px 1px 3px 1px rgba(60, 64, 67, 0.15);\n",
              "      fill: #174EA6;\n",
              "    }\n",
              "\n",
              "    .colab-df-buttons div {\n",
              "      margin-bottom: 4px;\n",
              "    }\n",
              "\n",
              "    [theme=dark] .colab-df-convert {\n",
              "      background-color: #3B4455;\n",
              "      fill: #D2E3FC;\n",
              "    }\n",
              "\n",
              "    [theme=dark] .colab-df-convert:hover {\n",
              "      background-color: #434B5C;\n",
              "      box-shadow: 0px 1px 3px 1px rgba(0, 0, 0, 0.15);\n",
              "      filter: drop-shadow(0px 1px 2px rgba(0, 0, 0, 0.3));\n",
              "      fill: #FFFFFF;\n",
              "    }\n",
              "  </style>\n",
              "\n",
              "    <script>\n",
              "      const buttonEl =\n",
              "        document.querySelector('#df-95e4fc80-1c99-4ad9-aaa2-e8dbaacf6ee7 button.colab-df-convert');\n",
              "      buttonEl.style.display =\n",
              "        google.colab.kernel.accessAllowed ? 'block' : 'none';\n",
              "\n",
              "      async function convertToInteractive(key) {\n",
              "        const element = document.querySelector('#df-95e4fc80-1c99-4ad9-aaa2-e8dbaacf6ee7');\n",
              "        const dataTable =\n",
              "          await google.colab.kernel.invokeFunction('convertToInteractive',\n",
              "                                                    [key], {});\n",
              "        if (!dataTable) return;\n",
              "\n",
              "        const docLinkHtml = 'Like what you see? Visit the ' +\n",
              "          '<a target=\"_blank\" href=https://colab.research.google.com/notebooks/data_table.ipynb>data table notebook</a>'\n",
              "          + ' to learn more about interactive tables.';\n",
              "        element.innerHTML = '';\n",
              "        dataTable['output_type'] = 'display_data';\n",
              "        await google.colab.output.renderOutput(dataTable, element);\n",
              "        const docLink = document.createElement('div');\n",
              "        docLink.innerHTML = docLinkHtml;\n",
              "        element.appendChild(docLink);\n",
              "      }\n",
              "    </script>\n",
              "  </div>\n",
              "\n",
              "\n",
              "<div id=\"df-18b1d529-24de-4a50-815b-4377df6ff1e2\">\n",
              "  <button class=\"colab-df-quickchart\" onclick=\"quickchart('df-18b1d529-24de-4a50-815b-4377df6ff1e2')\"\n",
              "            title=\"Suggest charts\"\n",
              "            style=\"display:none;\">\n",
              "\n",
              "<svg xmlns=\"http://www.w3.org/2000/svg\" height=\"24px\"viewBox=\"0 0 24 24\"\n",
              "     width=\"24px\">\n",
              "    <g>\n",
              "        <path d=\"M19 3H5c-1.1 0-2 .9-2 2v14c0 1.1.9 2 2 2h14c1.1 0 2-.9 2-2V5c0-1.1-.9-2-2-2zM9 17H7v-7h2v7zm4 0h-2V7h2v10zm4 0h-2v-4h2v4z\"/>\n",
              "    </g>\n",
              "</svg>\n",
              "  </button>\n",
              "\n",
              "<style>\n",
              "  .colab-df-quickchart {\n",
              "      --bg-color: #E8F0FE;\n",
              "      --fill-color: #1967D2;\n",
              "      --hover-bg-color: #E2EBFA;\n",
              "      --hover-fill-color: #174EA6;\n",
              "      --disabled-fill-color: #AAA;\n",
              "      --disabled-bg-color: #DDD;\n",
              "  }\n",
              "\n",
              "  [theme=dark] .colab-df-quickchart {\n",
              "      --bg-color: #3B4455;\n",
              "      --fill-color: #D2E3FC;\n",
              "      --hover-bg-color: #434B5C;\n",
              "      --hover-fill-color: #FFFFFF;\n",
              "      --disabled-bg-color: #3B4455;\n",
              "      --disabled-fill-color: #666;\n",
              "  }\n",
              "\n",
              "  .colab-df-quickchart {\n",
              "    background-color: var(--bg-color);\n",
              "    border: none;\n",
              "    border-radius: 50%;\n",
              "    cursor: pointer;\n",
              "    display: none;\n",
              "    fill: var(--fill-color);\n",
              "    height: 32px;\n",
              "    padding: 0;\n",
              "    width: 32px;\n",
              "  }\n",
              "\n",
              "  .colab-df-quickchart:hover {\n",
              "    background-color: var(--hover-bg-color);\n",
              "    box-shadow: 0 1px 2px rgba(60, 64, 67, 0.3), 0 1px 3px 1px rgba(60, 64, 67, 0.15);\n",
              "    fill: var(--button-hover-fill-color);\n",
              "  }\n",
              "\n",
              "  .colab-df-quickchart-complete:disabled,\n",
              "  .colab-df-quickchart-complete:disabled:hover {\n",
              "    background-color: var(--disabled-bg-color);\n",
              "    fill: var(--disabled-fill-color);\n",
              "    box-shadow: none;\n",
              "  }\n",
              "\n",
              "  .colab-df-spinner {\n",
              "    border: 2px solid var(--fill-color);\n",
              "    border-color: transparent;\n",
              "    border-bottom-color: var(--fill-color);\n",
              "    animation:\n",
              "      spin 1s steps(1) infinite;\n",
              "  }\n",
              "\n",
              "  @keyframes spin {\n",
              "    0% {\n",
              "      border-color: transparent;\n",
              "      border-bottom-color: var(--fill-color);\n",
              "      border-left-color: var(--fill-color);\n",
              "    }\n",
              "    20% {\n",
              "      border-color: transparent;\n",
              "      border-left-color: var(--fill-color);\n",
              "      border-top-color: var(--fill-color);\n",
              "    }\n",
              "    30% {\n",
              "      border-color: transparent;\n",
              "      border-left-color: var(--fill-color);\n",
              "      border-top-color: var(--fill-color);\n",
              "      border-right-color: var(--fill-color);\n",
              "    }\n",
              "    40% {\n",
              "      border-color: transparent;\n",
              "      border-right-color: var(--fill-color);\n",
              "      border-top-color: var(--fill-color);\n",
              "    }\n",
              "    60% {\n",
              "      border-color: transparent;\n",
              "      border-right-color: var(--fill-color);\n",
              "    }\n",
              "    80% {\n",
              "      border-color: transparent;\n",
              "      border-right-color: var(--fill-color);\n",
              "      border-bottom-color: var(--fill-color);\n",
              "    }\n",
              "    90% {\n",
              "      border-color: transparent;\n",
              "      border-bottom-color: var(--fill-color);\n",
              "    }\n",
              "  }\n",
              "</style>\n",
              "\n",
              "  <script>\n",
              "    async function quickchart(key) {\n",
              "      const quickchartButtonEl =\n",
              "        document.querySelector('#' + key + ' button');\n",
              "      quickchartButtonEl.disabled = true;  // To prevent multiple clicks.\n",
              "      quickchartButtonEl.classList.add('colab-df-spinner');\n",
              "      try {\n",
              "        const charts = await google.colab.kernel.invokeFunction(\n",
              "            'suggestCharts', [key], {});\n",
              "      } catch (error) {\n",
              "        console.error('Error during call to suggestCharts:', error);\n",
              "      }\n",
              "      quickchartButtonEl.classList.remove('colab-df-spinner');\n",
              "      quickchartButtonEl.classList.add('colab-df-quickchart-complete');\n",
              "    }\n",
              "    (() => {\n",
              "      let quickchartButtonEl =\n",
              "        document.querySelector('#df-18b1d529-24de-4a50-815b-4377df6ff1e2 button');\n",
              "      quickchartButtonEl.style.display =\n",
              "        google.colab.kernel.accessAllowed ? 'block' : 'none';\n",
              "    })();\n",
              "  </script>\n",
              "</div>\n",
              "\n",
              "  <div id=\"id_8f824c58-d72a-4552-9d4e-e440a8235d13\">\n",
              "    <style>\n",
              "      .colab-df-generate {\n",
              "        background-color: #E8F0FE;\n",
              "        border: none;\n",
              "        border-radius: 50%;\n",
              "        cursor: pointer;\n",
              "        display: none;\n",
              "        fill: #1967D2;\n",
              "        height: 32px;\n",
              "        padding: 0 0 0 0;\n",
              "        width: 32px;\n",
              "      }\n",
              "\n",
              "      .colab-df-generate:hover {\n",
              "        background-color: #E2EBFA;\n",
              "        box-shadow: 0px 1px 2px rgba(60, 64, 67, 0.3), 0px 1px 3px 1px rgba(60, 64, 67, 0.15);\n",
              "        fill: #174EA6;\n",
              "      }\n",
              "\n",
              "      [theme=dark] .colab-df-generate {\n",
              "        background-color: #3B4455;\n",
              "        fill: #D2E3FC;\n",
              "      }\n",
              "\n",
              "      [theme=dark] .colab-df-generate:hover {\n",
              "        background-color: #434B5C;\n",
              "        box-shadow: 0px 1px 3px 1px rgba(0, 0, 0, 0.15);\n",
              "        filter: drop-shadow(0px 1px 2px rgba(0, 0, 0, 0.3));\n",
              "        fill: #FFFFFF;\n",
              "      }\n",
              "    </style>\n",
              "    <button class=\"colab-df-generate\" onclick=\"generateWithVariable('cm_df')\"\n",
              "            title=\"Generate code using this dataframe.\"\n",
              "            style=\"display:none;\">\n",
              "\n",
              "  <svg xmlns=\"http://www.w3.org/2000/svg\" height=\"24px\"viewBox=\"0 0 24 24\"\n",
              "       width=\"24px\">\n",
              "    <path d=\"M7,19H8.4L18.45,9,17,7.55,7,17.6ZM5,21V16.75L18.45,3.32a2,2,0,0,1,2.83,0l1.4,1.43a1.91,1.91,0,0,1,.58,1.4,1.91,1.91,0,0,1-.58,1.4L9.25,21ZM18.45,9,17,7.55Zm-12,3A5.31,5.31,0,0,0,4.9,8.1,5.31,5.31,0,0,0,1,6.5,5.31,5.31,0,0,0,4.9,4.9,5.31,5.31,0,0,0,6.5,1,5.31,5.31,0,0,0,8.1,4.9,5.31,5.31,0,0,0,12,6.5,5.46,5.46,0,0,0,6.5,12Z\"/>\n",
              "  </svg>\n",
              "    </button>\n",
              "    <script>\n",
              "      (() => {\n",
              "      const buttonEl =\n",
              "        document.querySelector('#id_8f824c58-d72a-4552-9d4e-e440a8235d13 button.colab-df-generate');\n",
              "      buttonEl.style.display =\n",
              "        google.colab.kernel.accessAllowed ? 'block' : 'none';\n",
              "\n",
              "      buttonEl.onclick = () => {\n",
              "        google.colab.notebook.generateWithVariable('cm_df');\n",
              "      }\n",
              "      })();\n",
              "    </script>\n",
              "  </div>\n",
              "\n",
              "    </div>\n",
              "  </div>\n"
            ],
            "application/vnd.google.colaboratory.intrinsic+json": {
              "type": "dataframe",
              "variable_name": "cm_df",
              "summary": "{\n  \"name\": \"cm_df\",\n  \"rows\": 5,\n  \"fields\": [\n    {\n      \"column\": \"Melanose\",\n      \"properties\": {\n        \"dtype\": \"number\",\n        \"std\": 10,\n        \"min\": 0,\n        \"max\": 25,\n        \"num_unique_values\": 5,\n        \"samples\": [\n          2,\n          0,\n          3\n        ],\n        \"semantic_type\": \"\",\n        \"description\": \"\"\n      }\n    },\n    {\n      \"column\": \"Black spot\",\n      \"properties\": {\n        \"dtype\": \"number\",\n        \"std\": 2,\n        \"min\": 0,\n        \"max\": 5,\n        \"num_unique_values\": 3,\n        \"samples\": [\n          1,\n          5,\n          0\n        ],\n        \"semantic_type\": \"\",\n        \"description\": \"\"\n      }\n    },\n    {\n      \"column\": \"Healthy\",\n      \"properties\": {\n        \"dtype\": \"number\",\n        \"std\": 15,\n        \"min\": 0,\n        \"max\": 36,\n        \"num_unique_values\": 4,\n        \"samples\": [\n          2,\n          1,\n          0\n        ],\n        \"semantic_type\": \"\",\n        \"description\": \"\"\n      }\n    },\n    {\n      \"column\": \"Greening\",\n      \"properties\": {\n        \"dtype\": \"number\",\n        \"std\": 4,\n        \"min\": 0,\n        \"max\": 11,\n        \"num_unique_values\": 3,\n        \"samples\": [\n          0,\n          1,\n          11\n        ],\n        \"semantic_type\": \"\",\n        \"description\": \"\"\n      }\n    },\n    {\n      \"column\": \"Canker\",\n      \"properties\": {\n        \"dtype\": \"number\",\n        \"std\": 14,\n        \"min\": 0,\n        \"max\": 33,\n        \"num_unique_values\": 2,\n        \"samples\": [\n          33,\n          0\n        ],\n        \"semantic_type\": \"\",\n        \"description\": \"\"\n      }\n    }\n  ]\n}"
            }
          },
          "metadata": {},
          "execution_count": 70
        }
      ]
    },
    {
      "cell_type": "markdown",
      "source": [
        "# Confusion"
      ],
      "metadata": {
        "id": "uo9xnXGgislS"
      }
    },
    {
      "cell_type": "code",
      "source": [
        "plt.figure(figsize = (5,5))\n",
        "sns.heatmap(final_cm, annot = True,cmap='Greys',cbar=False,linewidth=2,fmt='d')\n",
        "plt.title('CNN Confusion Matrix for Gabor')\n",
        "plt.ylabel('True class')\n",
        "plt.xlabel('Prediction class')\n",
        "plt.show()"
      ],
      "metadata": {
        "id": "pLTYdz92BGP8",
        "colab": {
          "base_uri": "https://localhost:8080/",
          "height": 487
        },
        "outputId": "4bcea0ec-6730-41f3-ec7e-450bb2c376d2"
      },
      "execution_count": null,
      "outputs": [
        {
          "output_type": "display_data",
          "data": {
            "text/plain": [
              "<Figure size 500x500 with 1 Axes>"
            ],
            "image/png": "[encoded data removed]"
          },
          "metadata": {}
        }
      ]
    },
    {
      "cell_type": "code",
      "source": [
        "import os\n",
        "import random\n",
        "import numpy as np\n",
        "from tensorflow.keras.preprocessing import image\n",
        "from tensorflow.keras.models import load_model\n",
        "\n",
        "# Load your model (assuming you've saved it)\n",
        "model = load_model('model_keras.h5')  # Replace with your actual model filename\n",
        "\n",
        "# Specify the path to your folder containing images\n",
        "folder_path = '/content/drive/MyDrive/dataset/CitrusLeafDiseaseImage'  # Replace with your actual folder path\n",
        "\n",
        "# List all subdirectories in the folder\n",
        "subdirectories = [f for f in os.listdir(folder_path) if os.path.isdir(os.path.join(folder_path, f))]\n",
        "\n",
        "# Randomly select a subdirectory\n",
        "random_subdirectory = random.choice(subdirectories)\n",
        "\n",
        "# List all files in the selected subdirectory\n",
        "all_files = os.listdir(os.path.join(folder_path, random_subdirectory))\n",
        "\n",
        "# Filter the list to include only image files (you can add more extensions if needed)\n",
        "image_files = [f for f in all_files if f.endswith(('.png', '.jpg', '.jpeg', '.bmp'))]\n",
        "\n",
        "# Randomly select an image\n",
        "random_image = random.choice(image_files)\n",
        "\n",
        "# Load and preprocess the selected image\n",
        "img_path = os.path.join(folder_path, random_subdirectory, random_image)\n",
        "img = image.load_img(img_path, target_size=(48, 48))  # Resize to match your model's input shape\n",
        "\n",
        "# Preprocess the image\n",
        "img_array = image.img_to_array(img)\n",
        "img_array = np.expand_dims(img_array, axis=0)\n",
        "img_array /= 255.0  # Normalizing if you used this during training\n",
        "\n",
        "# Predict the class\n",
        "predictions = model.predict(img_array)\n",
        "\n",
        "# Decode the prediction (assuming you have a list of class labels)\n",
        "class_labels = ['Black spot', 'Canker', 'Greening', 'Healthy', 'Melanose']  # Replace with your actual class labels\n",
        "predicted_class = class_labels[np.argmax(predictions)]\n",
        "\n",
        "# Display the selected image and the prediction\n",
        "print(f'Selected image: {random_image}')\n",
        "print(f'The image belongs to: {predicted_class}')"
      ],
      "metadata": {
        "colab": {
          "base_uri": "https://localhost:8080/"
        },
        "id": "wmT_m80BAhpx",
        "outputId": "3387334e-833b-456e-d381-be4aab79daef"
      },
      "execution_count": null,
      "outputs": [
        {
          "output_type": "stream",
          "name": "stdout",
          "text": [
            "1/1 [==============================] - 0s 75ms/step\n",
            "Selected image: Image (59).png\n",
            "The image belongs to: Greening\n"
          ]
        }
      ]
    },
    {
      "cell_type": "code",
      "source": [
        "import os\n",
        "import random\n",
        "import numpy as np\n",
        "from tensorflow.keras.preprocessing import image\n",
        "from tensorflow.keras.models import load_model\n",
        "import matplotlib.pyplot as plt  # Importing for image display\n",
        "\n",
        "# Load your model (assuming you've saved it)\n",
        "model = load_model('model_keras.h5')  # Replace with your actual model filename\n",
        "\n",
        "# Specify the path to your folder containing images\n",
        "folder_path = '/content/drive/MyDrive/dataset/CitrusLeafDiseaseImage'  # Replace with your actual folder path\n",
        "\n",
        "# List all subdirectories in the folder\n",
        "subdirectories = [f for f in os.listdir(folder_path) if os.path.isdir(os.path.join(folder_path, f))]\n",
        "\n",
        "# Randomly select a subdirectory\n",
        "random_subdirectory = random.choice(subdirectories)\n",
        "\n",
        "# List all files in the selected subdirectory\n",
        "all_files = os.listdir(os.path.join(folder_path, random_subdirectory))\n",
        "\n",
        "# Filter the list to include only image files (you can add more extensions if needed)\n",
        "image_files = [f for f in all_files if f.endswith(('.png', '.jpg', '.jpeg', '.bmp'))]\n",
        "\n",
        "# Randomly select an image\n",
        "random_image = random.choice(image_files)\n",
        "\n",
        "# Load and preprocess the selected image\n",
        "img_path = os.path.join(folder_path, random_subdirectory, random_image)\n",
        "img = image.load_img(img_path, target_size=(48, 48))  # Resize to match your model's input shape\n",
        "\n",
        "# Preprocess the image\n",
        "img_array = image.img_to_array(img)\n",
        "img_array = np.expand_dims(img_array, axis=0)\n",
        "img_array /= 255.0  # Normalizing if you used this during training\n",
        "\n",
        "# Predict the class\n",
        "predictions = model.predict(img_array)\n",
        "\n",
        "# Decode the prediction (assuming you have a list of class labels)\n",
        "class_labels = ['Black spot', 'Canker', 'Greening', 'Healthy', 'Melanose']  # Replace with your actual class labels\n",
        "predicted_class = class_labels[np.argmax(predictions)]\n",
        "\n",
        "# Display the selected image and the prediction\n",
        "plt.figure(figsize=(3, 3))\n",
        "plt.imshow(image.load_img(img_path))  # Load and display the image\n",
        "plt.title(f'Prediction: {predicted_class}')  # Display the predicted class as the title\n",
        "plt.axis('off')  # Hide axes for better display\n",
        "plt.show()\n",
        "\n",
        "print(f'Selected image: {random_image}')\n",
        "print(f'The image belongs to: {predicted_class}')\n"
      ],
      "metadata": {
        "colab": {
          "base_uri": "https://localhost:8080/",
          "height": 342
        },
        "id": "JMyXC9b75SCM",
        "outputId": "ee4509ca-2c82-4931-989d-69cb86c22b3b"
      },
      "execution_count": null,
      "outputs": [
        {
          "output_type": "stream",
          "name": "stdout",
          "text": [
            "1/1 [==============================] - 0s 128ms/step\n"
          ]
        },
        {
          "output_type": "display_data",
          "data": {
            "text/plain": [
              "<Figure size 300x300 with 1 Axes>"
            ],
            "image/png": "[encoded data removed]"
          },
          "metadata": {}
        },
        {
          "output_type": "stream",
          "name": "stdout",
          "text": [
            "Selected image: Image (29).png\n",
            "The image belongs to: Greening\n"
          ]
        }
      ]
    }
  ],
  "metadata": {
    "colab": {
      "provenance": [],
      "gpuType": "T4"
    },
    "kernelspec": {
      "display_name": "Python 3",
      "name": "python3"
    },
    "accelerator": "GPU"
  },
  "nbformat": 4,
  "nbformat_minor": 0
}